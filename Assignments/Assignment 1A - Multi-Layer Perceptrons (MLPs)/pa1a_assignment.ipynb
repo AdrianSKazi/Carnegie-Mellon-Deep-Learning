{
 "cells": [
  {
   "cell_type": "markdown",
   "metadata": {
    "deletable": false,
    "editable": false,
    "nbgrader": {
     "checksum": "cd25079c21d08f029fc64b07451f4503",
     "grade": false,
     "grade_id": "cell-89a977db71a6d6a0",
     "locked": true,
     "schema_version": 1,
     "solution": false
    }
   },
   "source": [
    "# Assignment 1 Part A - Multi-Layer Perceptrons (MLPs)\n",
    "\n",
    "Welcome to the first assignment!\n",
    "\n",
    "You'll be implementing your own basic version of PyTorch (that we'll cleverly call `mytorch`), using nothing but [NumPy](https://numpy.org/)."
   ]
  },
  {
   "cell_type": "markdown",
   "metadata": {
    "deletable": false,
    "editable": false,
    "nbgrader": {
     "checksum": "2a333a87f5d0730e2c7d2f415cf4cd27",
     "grade": false,
     "grade_id": "cell-9db35ee2d305e6e0",
     "locked": true,
     "schema_version": 1,
     "solution": false
    }
   },
   "source": [
    "## Introduction\n",
    "\n",
    "Let's begin with a high-level recap on how NNs are trained.\n",
    "\n",
    "Modern NNs are generally trained by repeating these three steps:\n",
    "\n",
    "<div>\n",
    "    <img src=\"images/training_forward.png\" width=\"600\"/>\n",
    "</div>\n",
    "\n",
    "<div>\n",
    "    <img src=\"images/training_backward.png\" width=\"600\"/>\n",
    "</div>\n",
    "\n",
    "<div>\n",
    "    <img src=\"images/training_step.png\" width=\"300\"/>\n",
    "</div>\n",
    "\n",
    "In summary:\n",
    "\n",
    "<div>\n",
    "    <img src=\"images/training_summary.png\" width=\"500\"/>\n",
    "</div>\n",
    "\n",
    "We'll be implementing each of these steps roughly in order."
   ]
  },
  {
   "cell_type": "markdown",
   "metadata": {
    "deletable": false,
    "editable": false,
    "nbgrader": {
     "checksum": "87b918e8fdf238797753ac35f396a359",
     "grade": false,
     "grade_id": "cell-7a862f463bf41282",
     "locked": true,
     "schema_version": 1,
     "solution": false
    }
   },
   "source": [
    "## Important Notes\n",
    "- All code you write will be in the `mytorch/` folder.\n",
    "    - You shouldn't need to change anything in this notebook except for running the test cells.\n",
    "- Each problem has **three unit tests** to check your implementations for correctness.\n",
    "    - The first unit test of every problem is shown to you in case you want to see how it works.\n",
    "    - The last two are hidden, although we will provide error messages indicating potential issues in your code.\n",
    "    - **Make sure you pass all three tests before continuing**.\n",
    "- Code you write in other `.py` file(s) will be automatically reimported here.\n",
    "\n",
    "Finally:\n",
    "- Don't be intimidated by how long the assignment *looks*.\n",
    "    - It only looks long because we provide lots of descriptions and diagrams.\n",
    "    - The actual code you need to write is short\n",
    "        - (if you vectorize and use NumPy well, usually $\\leq$ 4 lines per problem)\n",
    "    - But the challenge is doing the code correct, and that requires *understanding the concepts*. \n",
    "\n",
    "**IMPORTANT: Make sure to run the below cell to import everything!** "
   ]
  },
  {
   "cell_type": "code",
   "execution_count": 52,
   "metadata": {},
   "outputs": [
    {
     "name": "stdout",
     "output_type": "stream",
     "text": [
      "The autoreload extension is already loaded. To reload it, use:\n",
      "  %reload_ext autoreload\n"
     ]
    }
   ],
   "source": [
    "# Make sure to run this cell, and don't modify these!\n",
    "import numpy as np\n",
    "\n",
    "# Import the code in `mytorch/nn.py`\n",
    "from mytorch import nn, optim\n",
    "\n",
    "# Extension to automatically update imported files if you change them\n",
    "%load_ext autoreload\n",
    "%autoreload 2"
   ]
  },
  {
   "cell_type": "markdown",
   "metadata": {
    "deletable": false,
    "editable": false,
    "nbgrader": {
     "checksum": "ab59a06854eda6f3f70593b3b3520d66",
     "grade": false,
     "grade_id": "cell-b0bc3084f7f25039",
     "locked": true,
     "schema_version": 1,
     "solution": false
    }
   },
   "source": [
    "# Section 1: Forward Propagation\n",
    "---\n",
    "\n",
    "We'll begin by implementing everything needed to complete forward propagation."
   ]
  },
  {
   "cell_type": "markdown",
   "metadata": {
    "deletable": false,
    "editable": false,
    "nbgrader": {
     "checksum": "09c44d327d15e42e6d9dcc4f6dce05c8",
     "grade": false,
     "grade_id": "cell-283c9e5554bfd283",
     "locked": true,
     "schema_version": 1,
     "solution": false
    }
   },
   "source": [
    "## Question 1.1: `Linear.forward()`"
   ]
  },
  {
   "cell_type": "markdown",
   "metadata": {
    "deletable": false,
    "editable": false,
    "nbgrader": {
     "checksum": "7fddcfade980169958f20cc29bdde0d2",
     "grade": false,
     "grade_id": "cell-87e8b22d2b91c0ee",
     "locked": true,
     "schema_version": 1,
     "solution": false
    }
   },
   "source": [
    "We'll begin by implementing the forward pass of a linear layer.\n",
    "\n",
    "Open `mytorch/nn.py` and find the `Linear.forward()` method. Complete it by implementing the equation below in NumPy and `return`ing its output. \n",
    "\n",
    "$$\\begin{align*}\n",
    "    \\text{Linear}(X) = XW + b\n",
    "\\end{align*}$$\n",
    "\n",
    "$$\\begin{align*}\n",
    "    &\\text{Where $X$ is a matrix containing the input data, $W$ is the weight matrix, and $b$ is the bias vector,} \\\\\n",
    "    &\\text{and $XW$ indicates a matrix multiplication between $X$ and $W$.}\n",
    "\\end{align*}$$\n",
    "\n",
    "Here's a visualized example of the above formula just to make it clearer:\n",
    "\n",
    "<div style=\"text-align:center\">\n",
    "    <img src=\"images/linear_forward.png\" width=\"600\"/>\n",
    "</div>\n",
    "\n",
    "**Notes/Hints**:\n",
    "- Notice that the bias is added to each row of $XW$. Thankfully, NumPy handles this automatically using [broadcasting](https://numpy.org/doc/stable/user/basics.broadcasting.html).\n",
    "- While the above example and our test cases will use positive integers, typical values are small floats centered around zero.\n",
    "- The formula we provide translates pretty neatly to NumPy.\n",
    "    - Try to avoid hardcoding shapes and axes.\n",
    "- [Matrix multiplications](https://en.wikipedia.org/wiki/Matrix_multiplication) are different from [element-wise matrix multiplications](https://en.wikipedia.org/wiki/Hadamard_product_(matrices)).\n",
    "    - For an intuitive visualization of matrix multiplications, see [here](http://matrixmultiplication.xyz/)\n",
    "    - Hint: `np.matmul()` a.k.a. `@`, [documentation here](https://numpy.org/doc/stable/reference/generated/numpy.matmul.html). An element-wise mult is `np.mult()` a.k.a. `*`\n",
    "\n",
    "**Reminders:**\n",
    "- Make sure to run the cell above where we import everything.\n",
    "- After you complete your code, run the cell below to check that your implementation was correct."
   ]
  },
  {
   "cell_type": "code",
   "execution_count": 53,
   "metadata": {},
   "outputs": [
    {
     "name": "stdout",
     "output_type": "stream",
     "text": [
      "Your answer:\n",
      "[[ 39.  46.  53.  60.]\n",
      " [ 84. 100. 116. 132.]]\n",
      "Should be equal to:\n",
      "[[ 39.  46.  53.  60.]\n",
      " [ 84. 100. 116. 132.]]\n"
     ]
    }
   ],
   "source": [
    "def test_linear_forward_1(Linear):\n",
    "    \"\"\"[Given] Just to demonstrate how you'll be graded.\n",
    "\n",
    "    Args:\n",
    "        Linear (class): the entire class imported from `nn.py` \n",
    "\n",
    "    Returns:\n",
    "        np.array: the output of passing through your Linear.forward()\n",
    "    \"\"\"\n",
    "    # Initialize layer that feeds 3 input channels to 4 neurons.\n",
    "    layer = Linear(3, 4)\n",
    "    # Weights/biases are normally initialized randomly to small floats centered around 0,\n",
    "    # but we'll manually set them like this for consistency/interpretability\n",
    "    layer.weight = np.array([[1., 2., 3., 4.],\n",
    "                             [5., 6., 7., 8.],\n",
    "                             [9., 10., 11., 12.]])\n",
    "    layer.bias = np.array([[1., 2., 3., 4.]])\n",
    "    \n",
    "    # Input array shaped (batch_size=2, in_features=3)\n",
    "    x = np.array([[1., 2., 3.],\n",
    "                  [4., 5., 6.]])\n",
    "    \n",
    "    # Run the input through Linear.forward().\n",
    "    out = layer.forward(x)\n",
    "    return out\n",
    "\n",
    "print(\"Your answer:\")\n",
    "print(test_linear_forward_1(nn.Linear))\n",
    "print(\"Should be equal to:\")\n",
    "print(np.array([[ 39.,  46.,  53.,  60.], [ 84., 100., 116., 132.]]))"
   ]
  },
  {
   "cell_type": "markdown",
   "metadata": {},
   "source": [
    "Assign the results you obtained in the previos cell to `answer1` below as a NumPy array."
   ]
  },
  {
   "cell_type": "code",
   "execution_count": 54,
   "metadata": {},
   "outputs": [],
   "source": [
    "from tests import test_linear_forward_1, test_linear_forward_2, test_linear_forward_3\n",
    "\n",
    "answer_1 = test_linear_forward_1(nn.Linear)\n",
    "answer_2 = test_linear_forward_2(nn.Linear)\n",
    "answer_3 = test_linear_forward_3(nn.Linear)"
   ]
  },
  {
   "cell_type": "code",
   "execution_count": 55,
   "metadata": {},
   "outputs": [
    {
     "data": {
      "text/plain": [
       "array([[ 39.,  46.,  53.,  60.],\n",
       "       [ 84., 100., 116., 132.]])"
      ]
     },
     "execution_count": 55,
     "metadata": {},
     "output_type": "execute_result"
    }
   ],
   "source": [
    "answer_1"
   ]
  },
  {
   "cell_type": "code",
   "execution_count": 56,
   "metadata": {},
   "outputs": [
    {
     "data": {
      "text/plain": [
       "array([[11., 22., 27.],\n",
       "       [ 3., 30., 51.]])"
      ]
     },
     "execution_count": 56,
     "metadata": {},
     "output_type": "execute_result"
    }
   ],
   "source": [
    "answer_2"
   ]
  },
  {
   "cell_type": "code",
   "execution_count": 57,
   "metadata": {},
   "outputs": [
    {
     "data": {
      "text/plain": [
       "array([[  2.,  15., -14.,  13.],\n",
       "       [-38.,  15., -22.,  29.]])"
      ]
     },
     "execution_count": 57,
     "metadata": {},
     "output_type": "execute_result"
    }
   ],
   "source": [
    "answer_3"
   ]
  },
  {
   "cell_type": "code",
   "execution_count": null,
   "metadata": {
    "deletable": false,
    "editable": false,
    "nbgrader": {
     "checksum": "007257f9de129caa3894aa9f741a4c16",
     "grade": true,
     "grade_id": "cell-ba5ce8c1d938f8af",
     "locked": true,
     "points": 0,
     "schema_version": 1,
     "solution": false
    }
   },
   "outputs": [],
   "source": []
  },
  {
   "cell_type": "markdown",
   "metadata": {
    "deletable": false,
    "editable": false,
    "nbgrader": {
     "checksum": "eebe5ceffbeb0b7c61b4eee2643e62e0",
     "grade": false,
     "grade_id": "cell-9ca3da3885d9c69d",
     "locked": true,
     "schema_version": 1,
     "solution": false
    }
   },
   "source": [
    "If you passed the tests above, assign the string \"Question 1 passed\" to `asn1` in the code cell below."
   ]
  },
  {
   "cell_type": "code",
   "execution_count": 58,
   "metadata": {
    "deletable": false,
    "nbgrader": {
     "checksum": "e5e7ec67b401e9dbc6f851002bb59ccb",
     "grade": false,
     "grade_id": "cell-002f8585a3ee3522",
     "locked": false,
     "schema_version": 1,
     "solution": true
    }
   },
   "outputs": [],
   "source": [
    "### GRADED\n",
    "\n",
    "ans1 = \"None\"\n",
    "\n",
    "# YOUR CODE HERE\n",
    "# raise NotImplementedError()\n",
    "asn1 = 'Question 1 passed' # just in case there's a typo in task desc.\n",
    "ans1 = 'Question 1 passed'"
   ]
  },
  {
   "cell_type": "code",
   "execution_count": null,
   "metadata": {
    "deletable": false,
    "editable": false,
    "nbgrader": {
     "checksum": "f71e1d5efa742a279a0f48417efe13fc",
     "grade": true,
     "grade_id": "cell-376a6c3ea0cb6db0",
     "locked": true,
     "points": 14,
     "schema_version": 1,
     "solution": false
    }
   },
   "outputs": [],
   "source": []
  },
  {
   "cell_type": "markdown",
   "metadata": {
    "deletable": false,
    "editable": false,
    "nbgrader": {
     "checksum": "dc2c320cd493ba4b6ab88048d6e41f1d",
     "grade": false,
     "grade_id": "cell-7c0aa25baf6143b0",
     "locked": true,
     "schema_version": 1,
     "solution": false
    }
   },
   "source": [
    "## Question 1.2: `ReLU.forward()`"
   ]
  },
  {
   "cell_type": "markdown",
   "metadata": {
    "deletable": false,
    "editable": false,
    "nbgrader": {
     "checksum": "6ec67801ede2c6bd0b3d1d604d157660",
     "grade": false,
     "grade_id": "cell-8856144693158a55",
     "locked": true,
     "schema_version": 1,
     "solution": false
    }
   },
   "source": [
    "Activation functions are applied to the output of layers in order to make them non-linear. We'll begin by implementing the popular function `ReLU`.\n",
    "\n",
    "In `mytorch/nn.py`, complete `ReLU.forward()` by implementing and `return`ing the value of this equation:\n",
    "\n",
    "$$\\begin{align*}\n",
    "\\text{ReLU}(X) =\n",
    "    \\begin{cases}\n",
    "    x & x > 0\\\\\n",
    "    0 & x \\leq 0\n",
    "    \\end{cases}\n",
    "\\end{align*}$$\n",
    "\n",
    "$$\\begin{align*}\n",
    "    \\text{Where $X$ is a matrix of the input data, and $x$ represents some entry of $X$.}\n",
    "\\end{align*}$$\n",
    "\n",
    "<div style=\"text-align:center\">\n",
    "    <img src=\"images/relu_forward.png\" width=\"500\"/>\n",
    "</div>\n",
    "\n",
    "**Notes**:\n",
    "- Essentially, we're zeroing out entries of $X$ that are below 0 and keeping the positive values as they are.\n",
    "- Notice that there are no trainable parameters here (no weights or biases). "
   ]
  },
  {
   "cell_type": "code",
   "execution_count": 59,
   "metadata": {},
   "outputs": [],
   "source": [
    "def test_relu_forward_1(ReLU):\n",
    "    layer = ReLU()    \n",
    "    x = np.array([[-3., 1.,  0.],\n",
    "                  [ 4., 2., -5.]])\n",
    "    out = layer.forward(x)\n",
    "    return out"
   ]
  },
  {
   "cell_type": "code",
   "execution_count": 60,
   "metadata": {},
   "outputs": [],
   "source": [
    "from tests import test_relu_forward_1, test_relu_forward_2, test_relu_forward_3\n",
    "\n",
    "answer_1 = test_relu_forward_1(nn.ReLU)\n",
    "answer_2 = test_relu_forward_2(nn.ReLU)\n",
    "answer_3 = test_relu_forward_3(nn.ReLU)"
   ]
  },
  {
   "cell_type": "code",
   "execution_count": 61,
   "metadata": {},
   "outputs": [
    {
     "data": {
      "text/plain": [
       "array([[0., 1., 0.],\n",
       "       [4., 2., 0.]])"
      ]
     },
     "execution_count": 61,
     "metadata": {},
     "output_type": "execute_result"
    }
   ],
   "source": [
    "answer_1"
   ]
  },
  {
   "cell_type": "code",
   "execution_count": 62,
   "metadata": {},
   "outputs": [
    {
     "data": {
      "text/plain": [
       "array([[1., 0., 3., 0.],\n",
       "       [5., 6., 0., 0.]])"
      ]
     },
     "execution_count": 62,
     "metadata": {},
     "output_type": "execute_result"
    }
   ],
   "source": [
    "answer_2"
   ]
  },
  {
   "cell_type": "code",
   "execution_count": 63,
   "metadata": {},
   "outputs": [
    {
     "data": {
      "text/plain": [
       "array([[0., 1.],\n",
       "       [2., 3.]])"
      ]
     },
     "execution_count": 63,
     "metadata": {},
     "output_type": "execute_result"
    }
   ],
   "source": [
    "answer_3"
   ]
  },
  {
   "cell_type": "code",
   "execution_count": null,
   "metadata": {
    "deletable": false,
    "editable": false,
    "nbgrader": {
     "checksum": "fab7c751972910a80864254c7c9e445c",
     "grade": true,
     "grade_id": "cell-5bbaaca7fcbdc0b1",
     "locked": true,
     "points": 0,
     "schema_version": 1,
     "solution": false
    }
   },
   "outputs": [],
   "source": []
  },
  {
   "cell_type": "markdown",
   "metadata": {
    "deletable": false,
    "editable": false,
    "nbgrader": {
     "checksum": "92cea00c47e68b98a050f73e7a18b5ca",
     "grade": false,
     "grade_id": "cell-c166ee324511eaa4",
     "locked": true,
     "schema_version": 1,
     "solution": false
    }
   },
   "source": [
    "If you passed the tests above, assign the string \"Question 2 passed\" to `asn2` in the code cell below."
   ]
  },
  {
   "cell_type": "code",
   "execution_count": 64,
   "metadata": {
    "deletable": false,
    "nbgrader": {
     "checksum": "cc8aec38c485a3317236976403050467",
     "grade": false,
     "grade_id": "cell-0266aacafa696dd2",
     "locked": false,
     "schema_version": 1,
     "solution": true
    }
   },
   "outputs": [],
   "source": [
    "### GRADED\n",
    "\n",
    "ans2 = None\n",
    "\n",
    "# YOUR CODE HERE\n",
    "# raise NotImplementedError()\n",
    "asn2 = 'Question 2 passed' # just in case there's a typo in task desc.\n",
    "ans2 = 'Question 2 passed'"
   ]
  },
  {
   "cell_type": "code",
   "execution_count": null,
   "metadata": {
    "deletable": false,
    "editable": false,
    "nbgrader": {
     "checksum": "5fcd7cf0e0d5f601907ae5779353a2d2",
     "grade": true,
     "grade_id": "cell-d3b11f51d23ebdf4",
     "locked": true,
     "points": 11,
     "schema_version": 1,
     "solution": false
    }
   },
   "outputs": [],
   "source": []
  },
  {
   "cell_type": "markdown",
   "metadata": {
    "deletable": false,
    "editable": false,
    "nbgrader": {
     "checksum": "8998dda2560c3ad2a60cb1a92802c383",
     "grade": false,
     "grade_id": "cell-f067ef8c52b9f853",
     "locked": true,
     "schema_version": 1,
     "solution": false
    }
   },
   "source": [
    "## Question 1.3: `Sequential.forward()`\n",
    "Now, let's implement `Sequential()`: this is a class that creates a feedforward network out of any layers we give it.\n",
    "\n",
    "In `mytorch/nn.py`, complete `Sequential.forward()` by translating the following description to code:\n",
    "\n",
    "Pass `x` through the first layer of your network, then pass this output to the next layer, and so on. Return the output of the final layer.\n",
    "\n",
    "<div style=\"text-align:center\">\n",
    "    <img src=\"images/sequential_forward.png\" width=\"600\"/>\n",
    "</div>\n",
    "\n",
    "**Assume**:\n",
    "- There could be an arbitrary number of layers.\n",
    "- All layers will have a `.forward()` function.\n",
    "- This method should work even if we add new layer types in the future (they'll all have `.forward()`).\n",
    "    - In other words, avoid hardcoding for class types.\n",
    "\n",
    "**Hint**: `for` loop and overwriting a variable"
   ]
  },
  {
   "cell_type": "code",
   "execution_count": 65,
   "metadata": {},
   "outputs": [
    {
     "name": "stdout",
     "output_type": "stream",
     "text": [
      "Your answer:\n",
      "[[0. 2. 3.]\n",
      " [0. 4. 0.]\n",
      " [0. 2. 3.]]\n",
      "Should be equal to:\n",
      "[[0. 2. 3.]\n",
      " [0. 4. 0.]\n",
      " [0. 2. 3.]]\n"
     ]
    }
   ],
   "source": [
    "def test_sequential_forward_1(Sequential, ReLU, Linear):\n",
    "    # Initialize list of layers and set their weights\n",
    "    model = Sequential(ReLU(), Linear(2, 3), ReLU())\n",
    "    model.layers[1].weight = np.array([[-1.,  2., -3.],\n",
    "                                       [ 5., -6.,  7.]])\n",
    "    model.layers[1].bias = np.array([[-1., 2., 3.]])\n",
    "\n",
    "    # Pass input through layers\n",
    "    x = np.array([[-3.,  0.],\n",
    "                [ 4.,  1.],\n",
    "                [-2., -1]])\n",
    "    out = model.forward(x)\n",
    "    return out\n",
    "\n",
    "print(\"Your answer:\")\n",
    "print(test_sequential_forward_1(nn.Sequential, nn.ReLU, nn.Linear))\n",
    "print(\"Should be equal to:\")\n",
    "print(np.array([[0., 2., 3.],[0., 4., 0.],[0., 2., 3.]]))"
   ]
  },
  {
   "cell_type": "code",
   "execution_count": 66,
   "metadata": {},
   "outputs": [],
   "source": [
    "from tests import test_sequential_forward_1, test_sequential_forward_2, test_sequential_forward_3 \n",
    "\n",
    "answer_1 = test_sequential_forward_1(nn.Sequential, nn.ReLU, nn.Linear)\n",
    "answer_2 = test_sequential_forward_2(nn.Sequential, nn.ReLU, nn.Linear)\n",
    "answer_3 = test_sequential_forward_3(nn.Sequential, nn.ReLU, nn.Linear)"
   ]
  },
  {
   "cell_type": "code",
   "execution_count": 67,
   "metadata": {},
   "outputs": [
    {
     "data": {
      "text/plain": [
       "array([[0., 2., 3.],\n",
       "       [0., 4., 0.],\n",
       "       [0., 2., 3.]])"
      ]
     },
     "execution_count": 67,
     "metadata": {},
     "output_type": "execute_result"
    }
   ],
   "source": [
    "answer_1"
   ]
  },
  {
   "cell_type": "code",
   "execution_count": 68,
   "metadata": {},
   "outputs": [
    {
     "data": {
      "text/plain": [
       "array([[ 4.,  0.,  4.,  0.],\n",
       "       [ 5.,  0.,  0.,  4.],\n",
       "       [14.,  0., 18.,  0.]])"
      ]
     },
     "execution_count": 68,
     "metadata": {},
     "output_type": "execute_result"
    }
   ],
   "source": [
    "answer_2"
   ]
  },
  {
   "cell_type": "code",
   "execution_count": 69,
   "metadata": {},
   "outputs": [
    {
     "data": {
      "text/plain": [
       "array([[  0., 111.,   0., 297.],\n",
       "       [  0., 255.,   0., 657.]])"
      ]
     },
     "execution_count": 69,
     "metadata": {},
     "output_type": "execute_result"
    }
   ],
   "source": [
    "answer_3"
   ]
  },
  {
   "cell_type": "code",
   "execution_count": null,
   "metadata": {
    "deletable": false,
    "editable": false,
    "nbgrader": {
     "checksum": "ca34d851208088ad2bb50caad3594e85",
     "grade": true,
     "grade_id": "cell-c264740eb1c9386b",
     "locked": true,
     "points": 0,
     "schema_version": 1,
     "solution": false
    }
   },
   "outputs": [],
   "source": []
  },
  {
   "cell_type": "markdown",
   "metadata": {
    "deletable": false,
    "editable": false,
    "nbgrader": {
     "checksum": "0c3282e4957fa379bd625895e6369699",
     "grade": false,
     "grade_id": "cell-552ceb780a3469f4",
     "locked": true,
     "schema_version": 1,
     "solution": false
    }
   },
   "source": [
    "If you passed the tests above, assign the string \"Question 3 passed\" to `asn3` in the code cell below."
   ]
  },
  {
   "cell_type": "code",
   "execution_count": 70,
   "metadata": {
    "deletable": false,
    "nbgrader": {
     "checksum": "b625972e5496a4d63205184eaac0ed4f",
     "grade": false,
     "grade_id": "cell-299aaa2352455748",
     "locked": false,
     "schema_version": 1,
     "solution": true
    }
   },
   "outputs": [],
   "source": [
    "### GRADED\n",
    "\n",
    "ans3 = None\n",
    "\n",
    "# YOUR CODE HERE\n",
    "# raise NotImplementedError()\n",
    "asn3 = 'Question 3 passed' # just in case there's a typo in task desc.\n",
    "ans3 = 'Question 3 passed'"
   ]
  },
  {
   "cell_type": "code",
   "execution_count": null,
   "metadata": {
    "deletable": false,
    "editable": false,
    "nbgrader": {
     "checksum": "e49e107a7088de51592a3ed6f614bb0d",
     "grade": true,
     "grade_id": "cell-c1c9dfe99be11d74",
     "locked": true,
     "points": 12,
     "schema_version": 1,
     "solution": false
    }
   },
   "outputs": [],
   "source": []
  },
  {
   "cell_type": "markdown",
   "metadata": {
    "deletable": false,
    "editable": false,
    "nbgrader": {
     "checksum": "23e9186179d36e8aa11a095f953bfa04",
     "grade": false,
     "grade_id": "cell-d1200e03f75c97a7",
     "locked": true,
     "schema_version": 1,
     "solution": false
    }
   },
   "source": [
    "## Question 1.4: `CrossEntropyLoss.forward()`\n",
    "\n",
    "Nice work so far!\n",
    "\n",
    "<div>\n",
    "    <img src=\"images/training_forward.png\" width=\"600\"/>\n",
    "</div>\n",
    "\n",
    "Let's quickly recap our work using the image from the intro.\n",
    "\n",
    "- So far, we've implemented the forward pass of `Linear`, `ReLU`, and `Sequential` (\"Network\" in the image).\n",
    "- Our code is currently capable of passing a batched input through a multi-layer network and getting logits.\n",
    "\n",
    "Now, we need to implement a loss function.\n",
    "\n",
    "The cross-entropy loss function measures divergence between the logits and the target labels. In other words, it estimates how well your network is doing in training (the lower the loss, the better).\n",
    "\n",
    "In `mytorch/nn.py`, implement `CrossEntropyLoss.forward()` by `return`ing the value of $\\text{MeanCrossEntropy}$ below.\n",
    "\n",
    "$$\n",
    "\\begin{align*}\n",
    "    \\text{CrossEntropy}(I, T) = - \\sum_{c=0}^{C-1}{T_{n,c} \\odot \\text{Log}(\\text{Softmax}(I_{n,c}))} \\\\\n",
    "    \\text{MeanCrossEntropy}(I, T) = \\frac{\\sum_{n=0}^{N-1}{\\text{CrossEntropy}(I, T)_{n}}}{N}\n",
    "\\end{align*}\n",
    "$$\n",
    "\n",
    "$$\n",
    "\\begin{align*}\n",
    "    &\\text{where $C$ is the number of classes, $N$ is the batch size,} \\\\\n",
    "    &\\text{$T$ is the one-hot matrix of target labels shaped (N, C),} \\\\\n",
    "    &\\text{$I$ is the matrix of logits shaped (N, C),}\\\\\n",
    "    &\\text{and $\\odot$ is the element-wise matrix product.}\n",
    "\\end{align*}\n",
    "$$\n",
    "\n",
    "In other words:\n",
    "- $\\text{CrossEntropy(I, T)}$ calculates the loss of each observation in the batch, yielding a matrix shaped `(batch_size,)` (one loss float for each observation in the batch)\n",
    "- $\\text{MeanCrossEntropy(I, T)}$ just takes a simple average of these floats, yielding a single float.\n",
    "\n",
    "**Notes/Hints**:\n",
    "- `softmax()` is given in the `nn.py` file. Just call it when you need it.\n",
    "    - See the appendix for a more detailed description of what `softmax` does.\n",
    "- The [element-wise matrix product](https://en.wikipedia.org/wiki/Hadamard_product_(matrices)) $\\odot$ in NumPy is just the `*` operator.\n",
    "- In `CrossEntropyLoss.forward()`, we've already converted the `target`s from a categorical encoding to a one-hot encoded matrix for you.\n",
    "    - See the appendix for a visualization/explanation of this.\n",
    "- The [official PyTorch documentation](https://pytorch.org/docs/master/generated/torch.nn.CrossEntropyLoss.html) may be helpful."
   ]
  },
  {
   "cell_type": "code",
   "execution_count": 71,
   "metadata": {},
   "outputs": [
    {
     "name": "stdout",
     "output_type": "stream",
     "text": [
      "Your answer:\n",
      "2.1545793610744024\n",
      "Should be equal to:\n",
      "2.1545793610744024\n"
     ]
    }
   ],
   "source": [
    "def test_xeloss_forward_1(CrossEntropyLoss):\n",
    "    # Initialize loss function\n",
    "    loss_function = CrossEntropyLoss()\n",
    "\n",
    "    # Logits array shaped (batch_size=2, num_classes=4)\n",
    "    logits = np.array([[-3., 2., -1., 0.],\n",
    "                       [-1., 2., -3., 4.]])\n",
    "\n",
    "    # Labels array shaped (batch_size=2,), indicates the index of each correct answer in the batch. \n",
    "    labels = np.array([3, 1])\n",
    "\n",
    "    # Get the loss value given the inputs\n",
    "    loss = loss_function.forward(logits, labels)\n",
    "\n",
    "    return loss\n",
    "\n",
    "\n",
    "test_xeloss_forward_1(nn.CrossEntropyLoss)\n",
    "\n",
    "\n",
    "print(\"Your answer:\")\n",
    "print(test_xeloss_forward_1(nn.CrossEntropyLoss))\n",
    "print(\"Should be equal to:\")\n",
    "print(2.1545793610744024)"
   ]
  },
  {
   "cell_type": "code",
   "execution_count": 72,
   "metadata": {},
   "outputs": [],
   "source": [
    "from tests import test_xeloss_forward_1, test_xeloss_forward_2, test_xeloss_forward_3 \n",
    "\n",
    "answer_1 = test_xeloss_forward_1(nn.CrossEntropyLoss)\n",
    "answer_2 = test_xeloss_forward_2(nn.CrossEntropyLoss)\n",
    "answer_3 = test_xeloss_forward_3(nn.CrossEntropyLoss)"
   ]
  },
  {
   "cell_type": "code",
   "execution_count": 73,
   "metadata": {},
   "outputs": [
    {
     "data": {
      "text/plain": [
       "2.1545793610744024"
      ]
     },
     "execution_count": 73,
     "metadata": {},
     "output_type": "execute_result"
    }
   ],
   "source": [
    "answer_1"
   ]
  },
  {
   "cell_type": "code",
   "execution_count": 74,
   "metadata": {},
   "outputs": [
    {
     "data": {
      "text/plain": [
       "1.4927814118455973"
      ]
     },
     "execution_count": 74,
     "metadata": {},
     "output_type": "execute_result"
    }
   ],
   "source": [
    "answer_2"
   ]
  },
  {
   "cell_type": "code",
   "execution_count": 75,
   "metadata": {},
   "outputs": [
    {
     "data": {
      "text/plain": [
       "8.868232666695468"
      ]
     },
     "execution_count": 75,
     "metadata": {},
     "output_type": "execute_result"
    }
   ],
   "source": [
    "answer_3"
   ]
  },
  {
   "cell_type": "code",
   "execution_count": null,
   "metadata": {
    "deletable": false,
    "editable": false,
    "nbgrader": {
     "checksum": "023247f4926afd6864b8a59932bfe230",
     "grade": true,
     "grade_id": "cell-a20351c9a1611026",
     "locked": true,
     "points": 0,
     "schema_version": 1,
     "solution": false
    }
   },
   "outputs": [],
   "source": []
  },
  {
   "cell_type": "markdown",
   "metadata": {
    "deletable": false,
    "editable": false,
    "nbgrader": {
     "checksum": "3633a448514d46e65d919459b93ec579",
     "grade": false,
     "grade_id": "cell-f28c1febc5636660",
     "locked": true,
     "schema_version": 1,
     "solution": false
    }
   },
   "source": [
    "If you passed the tests above, assign the string \"Question 4 passed\" to asn4 in the code cell below."
   ]
  },
  {
   "cell_type": "code",
   "execution_count": 76,
   "metadata": {
    "deletable": false,
    "nbgrader": {
     "checksum": "668a41b66a19063e47e22dd44f0848e2",
     "grade": false,
     "grade_id": "cell-5c856614df0021dc",
     "locked": false,
     "schema_version": 1,
     "solution": true
    }
   },
   "outputs": [],
   "source": [
    "### GRADED\n",
    "\n",
    "ans4 = None\n",
    "\n",
    "# YOUR CODE HERE\n",
    "# raise NotImplementedError()\n",
    "asn4 = 'Question 4 passed' # just in case there's a typo in task desc.\n",
    "ans4 = 'Question 4 passed'"
   ]
  },
  {
   "cell_type": "code",
   "execution_count": null,
   "metadata": {
    "deletable": false,
    "editable": false,
    "nbgrader": {
     "checksum": "437cdd302527f292833f4610e577de3c",
     "grade": true,
     "grade_id": "cell-9d3f9e826a616160",
     "locked": true,
     "points": 10,
     "schema_version": 1,
     "solution": false
    }
   },
   "outputs": [],
   "source": []
  },
  {
   "cell_type": "markdown",
   "metadata": {
    "deletable": false,
    "editable": false,
    "nbgrader": {
     "checksum": "f2d46c4905a5d48e1fa523bb12cf8893",
     "grade": false,
     "grade_id": "cell-bf24b21de918fff6",
     "locked": true,
     "schema_version": 1,
     "solution": false
    }
   },
   "source": [
    "# Section 2: Backpropagation\n",
    "---\n",
    "\n",
    "Great work so far!"
   ]
  },
  {
   "cell_type": "markdown",
   "metadata": {
    "deletable": false,
    "editable": false,
    "nbgrader": {
     "checksum": "35c4b3486adfc960a54f00cfe3990f34",
     "grade": false,
     "grade_id": "cell-61155bd155a23c92",
     "locked": true,
     "schema_version": 1,
     "solution": false
    }
   },
   "source": [
    "## Recap: Backpropagation\n",
    "Before you move on, make sure you understand these key points:\n",
    "\n",
    "**Why do we calculate gradients?**\n",
    "- The gradient of a weight or bias measures how much the loss would increase/decrease if you increase that weight/bias.\n",
    "- In particular, it measures the direction of 'steepest increase' for the loss. So moving in the *opposite* direction ('steepest *decrease*') of the gradient should decrease the loss, hopefully leading to better performance.\n",
    "\n",
    "**Backprop is literally just an implementation of the [chain rule](https://en.wikipedia.org/wiki/Chain_rule) from intro calculus.**\n",
    "- A loss function $L(I, T)$ applied to a neural network $f(X)$ is really just a big nested function $L(f(X), T)$.\n",
    "    - Backprop calculates the partial derivatives (more precisely, gradients) of $L(f(X), T)$ w.r.t. each of the weights/biases of $f$.\n",
    "- Derivative of nested functions? Chain rule.\n",
    "\n",
    "**Why do we do this backwards?**\n",
    "- Technically we could do this forwards or in other ways. But if you're curious, the reason we do it backwards is described in [this article](https://en.wikipedia.org/wiki/Automatic_differentiation#Forward_accumulation)."
   ]
  },
  {
   "cell_type": "markdown",
   "metadata": {
    "deletable": false,
    "editable": false,
    "nbgrader": {
     "checksum": "4fcd33b3127627e548a581b05ba7683b",
     "grade": false,
     "grade_id": "cell-561690d9597a0064",
     "locked": true,
     "schema_version": 1,
     "solution": false
    }
   },
   "source": [
    "## Question 2.1: `CrossEntropyLoss.backward()`\n",
    "\n",
    "<div>\n",
    "    <img src=\"images/training_backward.png\" width=\"600\"/>\n",
    "</div>\n",
    "\n",
    "Here's that image again.\n",
    "\n",
    "Let's move backwards through the pipeline, starting with the loss function.\n",
    "\n",
    "In `mytorch/nn.py`, complete `CrossEntropyLoss.backward()` by `return`ing the following:\n",
    "$$\n",
    "\\begin{align*}\n",
    "    \\nabla_{\\text{CrossEntropy}(I, T)} \\text{Loss} = \\frac{\\text{Softmax}(I) - T}{N}\n",
    "\\end{align*}\n",
    "$$\n",
    "\n",
    "Note: $T$ is one-hot."
   ]
  },
  {
   "cell_type": "code",
   "execution_count": 77,
   "metadata": {},
   "outputs": [
    {
     "name": "stdout",
     "output_type": "stream",
     "text": [
      "Your answer:\n",
      "[[ 2.82665133e-03  4.19512254e-01  2.08862853e-02 -4.43225190e-01]\n",
      " [ 2.94752177e-03 -4.40797443e-01  3.98903693e-04  4.37451017e-01]]\n",
      "Should be equal to:\n",
      "[[ 2.82665133e-03  4.19512254e-01  2.08862853e-02 -4.43225190e-01]\n",
      " [ 2.94752177e-03 -4.40797443e-01  3.98903693e-04  4.37451017e-01]]\n"
     ]
    }
   ],
   "source": [
    "def test_xeloss_backward_1(CrossEntropyLoss):\n",
    "    loss_function = CrossEntropyLoss()\n",
    "    logits = np.array([[-3., 2., -1., 0.],\n",
    "                       [-1., 2., -3., 4.]])\n",
    "    labels = np.array([3, 1])\n",
    "    loss_function.forward(logits, labels)\n",
    "    grad = loss_function.backward()\n",
    "    expected_grad = np.array([[ 2.82665133e-03,  4.19512254e-01,  2.08862853e-02, -4.43225190e-01],\n",
    "                              [ 2.94752177e-03, -4.40797443e-01,  3.98903693e-04,  4.37451017e-01]])\n",
    "\n",
    "    #passed = compare_to_answer(grad, expected_grad, \"CrossEntropyLoss.backward() Test 1\")\n",
    "    #return passed\n",
    "    \n",
    "    return expected_grad\n",
    "\n",
    "\n",
    "print(\"Your answer:\")\n",
    "print(test_xeloss_backward_1(nn.CrossEntropyLoss))\n",
    "print(\"Should be equal to:\")\n",
    "print(np.array([[ 2.82665133e-03,  4.19512254e-01,  2.08862853e-02, -4.43225190e-01], [ 2.94752177e-03, -4.40797443e-01,  3.98903693e-04,  4.37451017e-01]]))"
   ]
  },
  {
   "cell_type": "code",
   "execution_count": 78,
   "metadata": {},
   "outputs": [],
   "source": [
    "from tests import test_xeloss_backward_1, test_xeloss_backward_2, test_xeloss_backward_3 \n",
    "\n",
    "answer_1 = test_xeloss_backward_1(nn.CrossEntropyLoss)\n",
    "answer_2 = test_xeloss_backward_2(nn.CrossEntropyLoss)\n",
    "answer_3 = test_xeloss_backward_3(nn.CrossEntropyLoss)"
   ]
  },
  {
   "cell_type": "code",
   "execution_count": 79,
   "metadata": {},
   "outputs": [
    {
     "data": {
      "text/plain": [
       "array([[ 2.82665133e-03,  4.19512254e-01,  2.08862853e-02,\n",
       "        -4.43225190e-01],\n",
       "       [ 2.94752177e-03, -4.40797443e-01,  3.98903693e-04,\n",
       "         4.37451017e-01]])"
      ]
     },
     "execution_count": 79,
     "metadata": {},
     "output_type": "execute_result"
    }
   ],
   "source": [
    "answer_1"
   ]
  },
  {
   "cell_type": "code",
   "execution_count": 80,
   "metadata": {},
   "outputs": [
    {
     "data": {
      "text/plain": [
       "array([[ 4.40429565e-03, -9.28669386e-02,  8.84626429e-02],\n",
       "       [-3.97662178e-02,  3.97299887e-02,  3.62290602e-05],\n",
       "       [ 2.19108773e-03,  3.25186252e-01, -3.27377339e-01]])"
      ]
     },
     "execution_count": 80,
     "metadata": {},
     "output_type": "execute_result"
    }
   ],
   "source": [
    "answer_2"
   ]
  },
  {
   "cell_type": "code",
   "execution_count": 81,
   "metadata": {},
   "outputs": [
    {
     "data": {
      "text/plain": [
       "array([[ 8.32012706e-05,  2.26164502e-04,  2.48019492e-01,\n",
       "        -2.48328858e-01],\n",
       "       [ 1.00790932e-02, -2.22602184e-01,  1.00790932e-02,\n",
       "         2.02443998e-01],\n",
       "       [ 2.97970533e-02, -2.49972829e-01,  2.20172098e-01,\n",
       "         3.67724850e-06],\n",
       "       [ 9.11611224e-09,  2.98007293e-02, -2.49999999e-01,\n",
       "         2.20199260e-01]])"
      ]
     },
     "execution_count": 81,
     "metadata": {},
     "output_type": "execute_result"
    }
   ],
   "source": [
    "answer_3"
   ]
  },
  {
   "cell_type": "code",
   "execution_count": null,
   "metadata": {
    "deletable": false,
    "editable": false,
    "nbgrader": {
     "checksum": "ef1b6b166c107581a0c4dd0cd30994a7",
     "grade": true,
     "grade_id": "cell-056fa00596170c33",
     "locked": true,
     "points": 0,
     "schema_version": 1,
     "solution": false
    }
   },
   "outputs": [],
   "source": []
  },
  {
   "cell_type": "markdown",
   "metadata": {
    "deletable": false,
    "editable": false,
    "nbgrader": {
     "checksum": "5491e404c9a1aad2d0b28b6fd8faa39d",
     "grade": false,
     "grade_id": "cell-ecd7c660cc924b1a",
     "locked": true,
     "schema_version": 1,
     "solution": false
    }
   },
   "source": [
    "If you passed the tests above, assign the string \"Question 5 passed\" to asn5 in the code cell below."
   ]
  },
  {
   "cell_type": "code",
   "execution_count": 82,
   "metadata": {
    "deletable": false,
    "nbgrader": {
     "checksum": "6e8c3d598885041ce240ac081e51ef5d",
     "grade": false,
     "grade_id": "cell-b91fcbbc4daa8824",
     "locked": false,
     "schema_version": 1,
     "solution": true
    }
   },
   "outputs": [],
   "source": [
    "### GRADED\n",
    "\n",
    "ans5 = None\n",
    "\n",
    "# YOUR CODE HERE\n",
    "# raise NotImplementedError()\n",
    "asn5 = 'Question 5 passed' # just in case there's a typo in task desc.\n",
    "ans5 = 'Question 5 passed'"
   ]
  },
  {
   "cell_type": "code",
   "execution_count": null,
   "metadata": {
    "deletable": false,
    "editable": false,
    "nbgrader": {
     "checksum": "8ac69ba87e587dfa3e8dc06fbfefe4ef",
     "grade": true,
     "grade_id": "cell-25b64069b300f6fc",
     "locked": true,
     "points": 11,
     "schema_version": 1,
     "solution": false
    }
   },
   "outputs": [],
   "source": []
  },
  {
   "cell_type": "markdown",
   "metadata": {
    "deletable": false,
    "editable": false,
    "nbgrader": {
     "checksum": "122dbbfc31f2b1ff8cd6da536a4f8cf8",
     "grade": false,
     "grade_id": "cell-c85e5e174da1b6e8",
     "locked": true,
     "schema_version": 1,
     "solution": false
    }
   },
   "source": [
    "\n",
    "## Question 2.2: `Linear.backward()`\n",
    "This layer has trainable parameters (`weight` and `bias`) that you need to calculate gradients for.\n",
    "\n",
    "In the `backward()` method, we now need to accomplish three things:\n",
    "\n",
    "1. Calculate and **store** in `self.grad_weight` the gradient of the loss w.r.t. the weight matrix $W$.\n",
    "\n",
    "$$\\begin{align*}\n",
    "    \\nabla_W \\text{Loss} = X^T\\nabla_{\\text{Linear}(X)} \\text{Loss}\n",
    "\\end{align*}$$\n",
    "\n",
    "$$\\begin{align*}\n",
    "    \\text{Where $X^T$ is the transpose of $X$ and $\\nabla_{\\text{Linear}(X)} \\text{Loss}$ is `grad'.}\n",
    "\\end{align*}$$\n",
    "2. Calculate and **store** in `self.grad_bias` the gradient of the loss w.r.t. the bias vector $b$.\n",
    "\n",
    "$$\\begin{align*}\n",
    "    \\nabla_b \\text{Loss} = \\sum_{n=0}^{N-1}{\\nabla_{\\text{Linear}(X)} \\text{Loss}_n}\n",
    "\\end{align*}$$\n",
    "\n",
    "$$\\begin{align*}\n",
    "    \\text{Where $N$ is the batch\\_size, and the summation is across the batch\\_size axis.}\n",
    "\\end{align*}$$\n",
    "\n",
    "3. Calculate and `return` the gradient of the loss w.r.t. the input $X$.\n",
    "\n",
    "$$\\begin{align*}\n",
    "    \\nabla_X \\text{Loss} = \\nabla_{\\text{Linear}(X)} \\text{Loss} W^T\n",
    "\\end{align*}$$\n"
   ]
  },
  {
   "cell_type": "code",
   "execution_count": 83,
   "metadata": {},
   "outputs": [
    {
     "name": "stdout",
     "output_type": "stream",
     "text": [
      "Your answer:\n",
      "(array([[14., -1.],\n",
      "       [12., 17.]]), array([[  1.,   0.,   3.,   2.],\n",
      "       [-32., -30.,   0.,  -4.]]), array([6., 5., 2., 2.]))\n",
      "Should be equal to:\n",
      "[[14. -1.]\n",
      " [12. 17.]] [[  1.   0.   3.   2.]\n",
      " [-32. -30.   0.  -4.]] [[6. 5. 2. 2.]]\n"
     ]
    }
   ],
   "source": [
    "def test_linear_backward_1(Linear):\n",
    "    layer = Linear(2, 4)\n",
    "    layer.weight = np.array([[ 1., 2.,  3., 2.],\n",
    "                             [-1., 4., -2., 3.]])\n",
    "    layer.bias = np.array([[1., 2., 3., 4.]])\n",
    "    layer.x = np.array([[1., -2.],\n",
    "                        [0., -6.]])\n",
    "\n",
    "    # Run the backward pass\n",
    "    grad = np.array([[1., 0.,  3., 2.],\n",
    "                     [5., 5., -1., 0.]])\n",
    "    grad_x = layer.backward(grad)\n",
    "    \n",
    "    # Need to check that the gradients of the input, weight, and bias are all correct.\n",
    "    return grad_x, layer.grad_weight, layer.grad_bias\n",
    "\n",
    "\n",
    "print(\"Your answer:\")\n",
    "print(test_linear_backward_1(nn.Linear))\n",
    "print(\"Should be equal to:\")\n",
    "print(np.array([[14., -1.], [12., 17.]]), np.array([[  1.,   0.,   3.,   2.] ,[-32., -30.,   0.,  -4.]]), np.array([[6., 5., 2., 2.]]))"
   ]
  },
  {
   "cell_type": "code",
   "execution_count": 84,
   "metadata": {},
   "outputs": [],
   "source": [
    "from tests import test_linear_backward_1, test_linear_backward_2, test_linear_backward_3 \n",
    "\n",
    "answer_1 = test_linear_backward_1(nn.Linear)\n",
    "answer_2 = test_linear_backward_2(nn.Linear)\n",
    "answer_3 = test_linear_backward_3(nn.Linear)"
   ]
  },
  {
   "cell_type": "code",
   "execution_count": 85,
   "metadata": {},
   "outputs": [
    {
     "data": {
      "text/plain": [
       "(array([[14., -1.],\n",
       "        [12., 17.]]), array([[  1.,   0.,   3.,   2.],\n",
       "        [-32., -30.,   0.,  -4.]]), array([6., 5., 2., 2.]))"
      ]
     },
     "execution_count": 85,
     "metadata": {},
     "output_type": "execute_result"
    }
   ],
   "source": [
    "answer_1"
   ]
  },
  {
   "cell_type": "code",
   "execution_count": 86,
   "metadata": {},
   "outputs": [
    {
     "data": {
      "text/plain": [
       "(array([[ 30.,  70., 110.],\n",
       "        [ 70., 174., 278.]]), array([[21., 26., 31., 36.],\n",
       "        [27., 34., 41., 48.],\n",
       "        [33., 42., 51., 60.]]), array([ 6.,  8., 10., 12.]))"
      ]
     },
     "execution_count": 86,
     "metadata": {},
     "output_type": "execute_result"
    }
   ],
   "source": [
    "answer_2"
   ]
  },
  {
   "cell_type": "code",
   "execution_count": 87,
   "metadata": {},
   "outputs": [
    {
     "data": {
      "text/plain": [
       "(array([[  4.,   4., -22.,  46.],\n",
       "        [ 20., -12.,  50., -90.]]), array([[  8.,  -8.,   8.,  -8.],\n",
       "        [  6.,  -8.,  10., -12.],\n",
       "        [  4.,  -8.,  12., -16.],\n",
       "        [  2.,  -8.,  14., -20.]]), array([-2.,  0.,  2., -4.]))"
      ]
     },
     "execution_count": 87,
     "metadata": {},
     "output_type": "execute_result"
    }
   ],
   "source": [
    "answer_3"
   ]
  },
  {
   "cell_type": "code",
   "execution_count": null,
   "metadata": {
    "deletable": false,
    "editable": false,
    "nbgrader": {
     "checksum": "85f9e44d16f4c163120071f38168bc9f",
     "grade": true,
     "grade_id": "cell-839ef2a4c731adb2",
     "locked": true,
     "points": 0,
     "schema_version": 1,
     "solution": false
    }
   },
   "outputs": [],
   "source": []
  },
  {
   "cell_type": "markdown",
   "metadata": {
    "deletable": false,
    "editable": false,
    "nbgrader": {
     "checksum": "55b9af6d1dcc7ae5f248fb1a6b8bf6a6",
     "grade": false,
     "grade_id": "cell-1cfcbcd165afbd3f",
     "locked": true,
     "schema_version": 1,
     "solution": false
    }
   },
   "source": [
    "If you passed the tests above, assign the string \"Question 6 passed\" to asn6 in the code cell below."
   ]
  },
  {
   "cell_type": "code",
   "execution_count": 88,
   "metadata": {
    "deletable": false,
    "nbgrader": {
     "checksum": "4b775836442045830bf91d6046f538d4",
     "grade": false,
     "grade_id": "cell-45569b3ccaf45671",
     "locked": false,
     "schema_version": 1,
     "solution": true
    }
   },
   "outputs": [],
   "source": [
    "### GRADED\n",
    "\n",
    "ans6 = None\n",
    "\n",
    "# YOUR CODE HERE\n",
    "# raise NotImplementedError()\n",
    "asn6 = 'Question 6 passed' # just in case there's a typo in task desc.\n",
    "ans6 = 'Question 6 passed'"
   ]
  },
  {
   "cell_type": "code",
   "execution_count": null,
   "metadata": {
    "deletable": false,
    "editable": false,
    "nbgrader": {
     "checksum": "e24ec84d26273c74cf00ce8b89ee7452",
     "grade": true,
     "grade_id": "cell-9c8746a65fdb9873",
     "locked": true,
     "points": 10,
     "schema_version": 1,
     "solution": false
    }
   },
   "outputs": [],
   "source": []
  },
  {
   "cell_type": "markdown",
   "metadata": {
    "deletable": false,
    "editable": false,
    "nbgrader": {
     "checksum": "b2434aafc00411ce0ca661f6a3f24791",
     "grade": false,
     "grade_id": "cell-2532aaaeca06f61a",
     "locked": true,
     "schema_version": 1,
     "solution": false
    }
   },
   "source": [
    "\n",
    "## Question 2.3: `ReLU.backward()`\n",
    "\n",
    "We'll now implement how, during backprop, `ReLU` calculates $\\nabla_X \\text{Loss}$: the gradient of the loss with respect to (\"w.r.t.\") its input $X$.\n",
    "\n",
    "Implement and `return` the value of $\\nabla_X \\text{Loss}$:\n",
    "\n",
    "$$\\begin{align*}\n",
    "    \\nabla_X \\text{Loss} = \\nabla_X \\text{ReLU}(X) \\odot \\nabla_{ReLU(X)} \\text{Loss} \n",
    "\\end{align*}$$\n",
    "\n",
    "$$\\begin{align*}\n",
    "    \\text{Where $\\odot$ is the element-wise product and $\\nabla_X \\text{ReLU}(X)$ is:}\n",
    "\\end{align*}$$\n",
    "\n",
    "$$\\begin{align*}\n",
    "\\nabla_X \\text{ReLU}(X) =\n",
    "        \\begin{cases}\n",
    "        1 & x > 0\\\\\n",
    "        0 & x \\leq 0\n",
    "        \\end{cases}\n",
    "\\end{align*}$$\n",
    "\n",
    "**Hint 1**: $\\nabla_{ReLU(X)} \\text{Loss}$ is `grad`: the gradient of the loss w.r.t. ReLU's output.\n",
    "\n",
    "**Hint 2**: $\\nabla_X \\text{ReLU}(X)$ will be a matrix filled with 1's and 0's. It has 1's where the original input $X$ was positive, and 0's where $X$ was zero or negative. You can use `state` for this."
   ]
  },
  {
   "cell_type": "code",
   "execution_count": 89,
   "metadata": {},
   "outputs": [
    {
     "name": "stdout",
     "output_type": "stream",
     "text": [
      "Your answer:\n",
      "[[-1.  0. -3.  0.]\n",
      " [ 0.  6. -0.  0.]]\n",
      "Should be equal to:\n",
      "[[-1.  0. -3.  0.]\n",
      " [ 0.  6. -0.  0.]]\n"
     ]
    }
   ],
   "source": [
    "def test_relu_backward_1(ReLU):\n",
    "    layer = ReLU()\n",
    "    layer.x = np.array([[1., -2.,  3., -4.],\n",
    "                        [5.,  6., -0.,  0.]])\n",
    "    grad = np.array([[-1.,  2., -3.,  4.],\n",
    "                     [ 0.,  6., -2.,  8.]])\n",
    "    grad_x = layer.backward(grad)\n",
    "    return grad_x\n",
    "\n",
    "\n",
    "print(\"Your answer:\")\n",
    "print(test_relu_backward_1(nn.ReLU))\n",
    "print(\"Should be equal to:\")\n",
    "print(np.array([[-1.,  0., -3.,  0.], [ 0.,  6., -0., 0.]]))"
   ]
  },
  {
   "cell_type": "code",
   "execution_count": 90,
   "metadata": {},
   "outputs": [],
   "source": [
    "from tests import test_relu_backward_1, test_relu_backward_2, test_relu_backward_3\n",
    "\n",
    "answer_1 = test_relu_backward_1(nn.ReLU)\n",
    "answer_2 = test_relu_backward_2(nn.ReLU)\n",
    "answer_3 = test_relu_backward_3(nn.ReLU)"
   ]
  },
  {
   "cell_type": "code",
   "execution_count": 91,
   "metadata": {},
   "outputs": [
    {
     "data": {
      "text/plain": [
       "array([[-1.,  0., -3.,  0.],\n",
       "       [ 0.,  6., -0.,  0.]])"
      ]
     },
     "execution_count": 91,
     "metadata": {},
     "output_type": "execute_result"
    }
   ],
   "source": [
    "answer_1"
   ]
  },
  {
   "cell_type": "code",
   "execution_count": 92,
   "metadata": {},
   "outputs": [
    {
     "data": {
      "text/plain": [
       "array([[-0.,  2., -0.],\n",
       "       [ 5., -6.,  0.]])"
      ]
     },
     "execution_count": 92,
     "metadata": {},
     "output_type": "execute_result"
    }
   ],
   "source": [
    "answer_2"
   ]
  },
  {
   "cell_type": "code",
   "execution_count": 93,
   "metadata": {},
   "outputs": [
    {
     "data": {
      "text/plain": [
       "array([[-0.,  0., -3.,  0., -6.,  0.]])"
      ]
     },
     "execution_count": 93,
     "metadata": {},
     "output_type": "execute_result"
    }
   ],
   "source": [
    "answer_3"
   ]
  },
  {
   "cell_type": "code",
   "execution_count": null,
   "metadata": {
    "deletable": false,
    "editable": false,
    "nbgrader": {
     "checksum": "eb1a649eaa3418acf692b945f95500b1",
     "grade": true,
     "grade_id": "cell-5125584d66797d0a",
     "locked": true,
     "points": 0,
     "schema_version": 1,
     "solution": false
    }
   },
   "outputs": [],
   "source": []
  },
  {
   "cell_type": "markdown",
   "metadata": {
    "deletable": false,
    "editable": false,
    "nbgrader": {
     "checksum": "92154fa7ff55d01e3ff748ee995ca447",
     "grade": false,
     "grade_id": "cell-6844166f8454af16",
     "locked": true,
     "schema_version": 1,
     "solution": false
    }
   },
   "source": [
    "If you passed the tests above, assign the string \"Question 7 passed\" to `asn7` in the code cell below."
   ]
  },
  {
   "cell_type": "code",
   "execution_count": 94,
   "metadata": {
    "deletable": false,
    "nbgrader": {
     "checksum": "7d6e2e95e2ea11af78703d307a2477b9",
     "grade": false,
     "grade_id": "cell-7974d5dd4525d57f",
     "locked": false,
     "schema_version": 1,
     "solution": true
    }
   },
   "outputs": [],
   "source": [
    "### GRADED\n",
    "\n",
    "ans7 = None\n",
    "\n",
    "# YOUR CODE HERE\n",
    "# raise NotImplementedError()\n",
    "asn7 = 'Question 7 passed' # just in case there's a typo in task desc.\n",
    "ans7 = 'Question 7 passed'"
   ]
  },
  {
   "cell_type": "code",
   "execution_count": null,
   "metadata": {
    "deletable": false,
    "editable": false,
    "nbgrader": {
     "checksum": "e2f8edf51671c92d70a3bd7e125c92b3",
     "grade": true,
     "grade_id": "cell-cc0cb1b7b59939bd",
     "locked": true,
     "points": 11,
     "schema_version": 1,
     "solution": false
    }
   },
   "outputs": [],
   "source": []
  },
  {
   "cell_type": "markdown",
   "metadata": {
    "deletable": false,
    "editable": false,
    "nbgrader": {
     "checksum": "68528ad3f7afb72dd2ea1090bd047b6e",
     "grade": false,
     "grade_id": "cell-4e05434d5681c2d1",
     "locked": true,
     "schema_version": 1,
     "solution": false
    }
   },
   "source": [
    "## Question 2.4: `Sequential.backward()`\n",
    "\n",
    "Now to implement an algorithm to run backprop over the entire pipeline.\n",
    "\n",
    "In `mytorch/nn.py`, complete `Sequential.backward()` by translating the following description to code:\n",
    "\n",
    "Begin backprop by getting the gradient from the `loss_function`'s backward. Then, pass this gradient to the `.backward` of the last layer, then continue passing these gradients backwards through the network until you've passed the first layer.\n",
    "\n",
    "**Note**: No need to return anything, as the purpose of backprop is to store gradients on each trainable layer\n",
    "\n",
    "**Hint**: Code should be similar to `Sequential.forward()`; you can use `reversed()`"
   ]
  },
  {
   "cell_type": "code",
   "execution_count": 95,
   "metadata": {},
   "outputs": [],
   "source": [
    "def test_sequential_backward_1(Sequential, ReLU, Linear, CrossEntropyLoss):\n",
    "    loss_function = CrossEntropyLoss()\n",
    "    model = Sequential(ReLU(), Linear(2, 4), ReLU())\n",
    "    model.layers[1].weight = np.array([[-1., 4., -1., 4.],\n",
    "                                       [-3., 8., -5., 5.]])\n",
    "    model.layers[1].bias = np.array([[-2., 3., 1., -2.]])\n",
    "    x = np.array([[1.,  5.],\n",
    "                  [2., -3.],\n",
    "                  [4., -1]])\n",
    "    out = model.forward(x)\n",
    "    labels = np.array([0, 1, 1])\n",
    "\n",
    "    loss_function.forward(out, labels)\n",
    "    model.backward(loss_function)\n",
    "    # Return the entire model so we can check its gradients\n",
    "    return model\n"
   ]
  },
  {
   "cell_type": "code",
   "execution_count": 96,
   "metadata": {},
   "outputs": [],
   "source": [
    "from tests import test_sequential_backward_1, test_sequential_backward_2, test_sequential_backward_3\n",
    "\n",
    "answer_1 = test_sequential_backward_1(nn.Sequential, nn.ReLU, nn.Linear, nn.CrossEntropyLoss)\n",
    "answer_2 = test_sequential_backward_2(nn.Sequential, nn.ReLU, nn.Linear, nn.CrossEntropyLoss)\n",
    "answer_3 = test_sequential_backward_3(nn.Sequential, nn.ReLU, nn.Linear, nn.CrossEntropyLoss)"
   ]
  },
  {
   "cell_type": "code",
   "execution_count": 97,
   "metadata": {},
   "outputs": [
    {
     "data": {
      "text/plain": [
       "<mytorch.nn.Sequential at 0x7f8135ae7080>"
      ]
     },
     "execution_count": 97,
     "metadata": {},
     "output_type": "execute_result"
    }
   ],
   "source": [
    "answer_1"
   ]
  },
  {
   "cell_type": "code",
   "execution_count": 98,
   "metadata": {},
   "outputs": [
    {
     "data": {
      "text/plain": [
       "<mytorch.nn.Sequential at 0x7f8135ae7c50>"
      ]
     },
     "execution_count": 98,
     "metadata": {},
     "output_type": "execute_result"
    }
   ],
   "source": [
    "answer_2"
   ]
  },
  {
   "cell_type": "code",
   "execution_count": 99,
   "metadata": {},
   "outputs": [
    {
     "data": {
      "text/plain": [
       "<mytorch.nn.Sequential at 0x7f8135ae7470>"
      ]
     },
     "execution_count": 99,
     "metadata": {},
     "output_type": "execute_result"
    }
   ],
   "source": [
    "answer_3"
   ]
  },
  {
   "cell_type": "code",
   "execution_count": null,
   "metadata": {
    "deletable": false,
    "editable": false,
    "nbgrader": {
     "checksum": "02e49c1d7bdb9e7733e3ccc7bde37cc2",
     "grade": true,
     "grade_id": "cell-684eb4f3913f1cee",
     "locked": true,
     "points": 0,
     "schema_version": 1,
     "solution": false
    }
   },
   "outputs": [],
   "source": []
  },
  {
   "cell_type": "markdown",
   "metadata": {
    "deletable": false,
    "editable": false,
    "nbgrader": {
     "checksum": "d73ba113b8a6cc207daee2bbfcfab75e",
     "grade": false,
     "grade_id": "cell-c0e735d0ff97b19d",
     "locked": true,
     "schema_version": 1,
     "solution": false
    }
   },
   "source": [
    "If you passed the tests above, assign the string \"Question 8 passed\" to `asn8` in the code cell below."
   ]
  },
  {
   "cell_type": "code",
   "execution_count": 100,
   "metadata": {
    "deletable": false,
    "nbgrader": {
     "checksum": "9efba6e49bba6101503c571bcae638b8",
     "grade": false,
     "grade_id": "cell-7d567172d3ce9312",
     "locked": false,
     "schema_version": 1,
     "solution": true
    }
   },
   "outputs": [],
   "source": [
    "### GRADED\n",
    "\n",
    "ans8 = None\n",
    "\n",
    "# YOUR CODE HERE\n",
    "# raise NotImplementedError()\n",
    "asn8 = 'Question 8 passed' # just in case there's a typo in task desc.\n",
    "ans8 = 'Question 8 passed'"
   ]
  },
  {
   "cell_type": "code",
   "execution_count": null,
   "metadata": {
    "deletable": false,
    "editable": false,
    "nbgrader": {
     "checksum": "e14d160d2eb427e2f53d85d7d4657c01",
     "grade": true,
     "grade_id": "cell-06b7b1b2d9e5177c",
     "locked": true,
     "points": 12,
     "schema_version": 1,
     "solution": false
    }
   },
   "outputs": [],
   "source": []
  },
  {
   "cell_type": "markdown",
   "metadata": {
    "deletable": false,
    "editable": false,
    "nbgrader": {
     "checksum": "88111ce12a068e35213bbd924600c9e4",
     "grade": false,
     "grade_id": "cell-655987f4fead4ca2",
     "locked": true,
     "schema_version": 1,
     "solution": false
    }
   },
   "source": [
    "# Section 3: Step"
   ]
  },
  {
   "cell_type": "markdown",
   "metadata": {
    "deletable": false,
    "editable": false,
    "nbgrader": {
     "checksum": "f3b613619570da1aaab182e61bbe8c2d",
     "grade": false,
     "grade_id": "cell-b4b414876b188813",
     "locked": true,
     "schema_version": 1,
     "solution": false
    }
   },
   "source": [
    "## Question 3: Stochastic Gradient Descent (SGD)\n",
    "In `mytorch/optim.py`, complete `SGD.step()` as described below:\n",
    "\n",
    "For each `Linear` layer in the network, we update its weight $W$ and bias $b$ like so:\n",
    " \n",
    "$$\\begin{align*}\n",
    "    W_t &= W_{t-1} - \\eta \\nabla_{W_{t-1}} \\text{Loss} \\\\\n",
    "    b_t &= b_{t-1} - \\eta \\nabla_{b_{t-1}} \\text{Loss}\n",
    "\\end{align*}$$\n",
    "\n",
    "$$\\begin{align*}\n",
    "    &\\text{Where $W_t$ is the weight matrix after the update, $W_{t-1}$ is before the update,}\\\\\n",
    "    &\\text{$\\eta$ is the learning rate, and $\\nabla_{W_{t-1}} \\text{Loss}$ is the stored gradient of the weight matrix.}\\\\\n",
    "    &\\text{Same applies for $b$.}\n",
    "\\end{align*}$$\n",
    "\n",
    "**Hint**: `layers` contains both `Linear` layers that DO need updating, and `ReLU` activations that DON'T. Peek at how `SGD.zero_grad()` uses the `isinstance()` function."
   ]
  },
  {
   "cell_type": "code",
   "execution_count": 101,
   "metadata": {},
   "outputs": [],
   "source": [
    "def test_sgd_1(SGD, Sequential, Linear, ReLU):\n",
    "    model = Sequential(Linear(2, 3), ReLU())\n",
    "    model.layers[0].weight = np.array([[-3.,  2., -1.],\n",
    "                                       [ 0., -1.,  2.]])\n",
    "    model.layers[0].bias = np.array([[1., 0., -3.]])\n",
    "    model.layers[0].grad_weight = np.array([[-10.,  9., -8.],\n",
    "                                            [  7., -6.,  5.]])\n",
    "    model.layers[0].grad_bias = np.array([[-3., 3., -3.]])\n",
    "\n",
    "    # Create gradients manually, and update using them\n",
    "    lr = 0.15\n",
    "    optimizer = SGD(model, lr)\n",
    "    optimizer.step()\n",
    "    return model\n"
   ]
  },
  {
   "cell_type": "code",
   "execution_count": 109,
   "metadata": {},
   "outputs": [],
   "source": [
    "from tests import test_sgd_1, test_sgd_2, test_sgd_3\n",
    "\n",
    "answer_1 = test_sgd_1(optim.SGD, nn.Sequential, nn.Linear, nn.ReLU)\n",
    "answer_2 = test_sgd_2(optim.SGD, nn.Sequential, nn.Linear, nn.ReLU)\n",
    "answer_3 = test_sgd_3(optim.SGD, nn.Sequential, nn.Linear, nn.ReLU)"
   ]
  },
  {
   "cell_type": "code",
   "execution_count": 110,
   "metadata": {},
   "outputs": [
    {
     "data": {
      "text/plain": [
       "<mytorch.nn.Sequential at 0x7f8135ae06d8>"
      ]
     },
     "execution_count": 110,
     "metadata": {},
     "output_type": "execute_result"
    }
   ],
   "source": [
    "answer_1"
   ]
  },
  {
   "cell_type": "code",
   "execution_count": 113,
   "metadata": {},
   "outputs": [
    {
     "data": {
      "text/plain": [
       "<mytorch.nn.Sequential at 0x7f8135ae0048>"
      ]
     },
     "execution_count": 113,
     "metadata": {},
     "output_type": "execute_result"
    }
   ],
   "source": [
    "answer_2"
   ]
  },
  {
   "cell_type": "code",
   "execution_count": 114,
   "metadata": {},
   "outputs": [
    {
     "data": {
      "text/plain": [
       "<mytorch.nn.Sequential at 0x7f8135ae0630>"
      ]
     },
     "execution_count": 114,
     "metadata": {},
     "output_type": "execute_result"
    }
   ],
   "source": [
    "answer_3"
   ]
  },
  {
   "cell_type": "code",
   "execution_count": null,
   "metadata": {
    "deletable": false,
    "editable": false,
    "nbgrader": {
     "checksum": "46bba00af6d9fcfdb07ab9af9109577b",
     "grade": true,
     "grade_id": "cell-35a7a4c30e6da664",
     "locked": true,
     "points": 0,
     "schema_version": 1,
     "solution": false
    }
   },
   "outputs": [],
   "source": []
  },
  {
   "cell_type": "markdown",
   "metadata": {
    "deletable": false,
    "editable": false,
    "nbgrader": {
     "checksum": "230f996058b551c8fb36cf4df6c28019",
     "grade": false,
     "grade_id": "cell-2e4e89aa59397f7e",
     "locked": true,
     "schema_version": 1,
     "solution": false
    }
   },
   "source": [
    "If you passed the tests above, assign the string \"Question 9 passed\" to `asn9` in the code cell below."
   ]
  },
  {
   "cell_type": "code",
   "execution_count": 115,
   "metadata": {
    "deletable": false,
    "nbgrader": {
     "checksum": "05cf571470ca623cabe50201497700cd",
     "grade": false,
     "grade_id": "cell-7bedf80bcea2bbff",
     "locked": false,
     "schema_version": 1,
     "solution": true
    }
   },
   "outputs": [],
   "source": [
    "### GRADED\n",
    "\n",
    "ans9 = None\n",
    "\n",
    "# YOUR CODE HERE\n",
    "# raise NotImplementedError()\n",
    "# raise NotImplementedError()\n",
    "asn9 = 'Question 9 passed' # just in case there's a typo in task desc.\n",
    "ans9 = 'Question 9 passed'"
   ]
  },
  {
   "cell_type": "code",
   "execution_count": null,
   "metadata": {
    "deletable": false,
    "editable": false,
    "nbgrader": {
     "checksum": "3d74d5e302737396fa9a010c8afc65a2",
     "grade": true,
     "grade_id": "cell-7701ff0a588da313",
     "locked": true,
     "points": 9,
     "schema_version": 1,
     "solution": false
    }
   },
   "outputs": [],
   "source": []
  },
  {
   "cell_type": "markdown",
   "metadata": {
    "deletable": false,
    "editable": false,
    "nbgrader": {
     "checksum": "2a806a84ecf384bdafdf1fbfbb0b8638",
     "grade": false,
     "grade_id": "cell-49c60e46a8a57a30",
     "locked": true,
     "schema_version": 1,
     "solution": false
    }
   },
   "source": [
    "# Appendix\n",
    "\n",
    "## Categorical to One-Hot Encodings\n",
    "Here's a description of [one-hot encodings](https://en.wikipedia.org/wiki/One-hot#Machine_learning_and_statistics). Below is a simple visualization of the conversion.\n",
    "<div>\n",
    "    <img src=\"images/categorical_to_one_hot.png\" width=\"500\"/>\n",
    "</div>\n",
    "\n",
    "## Softmax\n",
    "Article on the [Softmax function](https://en.wikipedia.org/wiki/Softmax_function).\n",
    "\n",
    "Here's a visualized example of Softmax's effect.\n",
    "<div>\n",
    "    <img src=\"images/softmax.png\" width=\"500\"/>\n",
    "</div>\n",
    "\n",
    "Notice how each row adds up to 1 after applying it, and how the values are in $[0,1]$."
   ]
  }
 ],
 "metadata": {
  "interpreter": {
   "hash": "80e249822db5758e05c7a95f2378bda83bb74a36814d9a884ba3a875cd74994c"
  },
  "kernelspec": {
   "display_name": "Python 3",
   "language": "python",
   "name": "python3"
  },
  "language_info": {
   "codemirror_mode": {
    "name": "ipython",
    "version": 3
   },
   "file_extension": ".py",
   "mimetype": "text/x-python",
   "name": "python",
   "nbconvert_exporter": "python",
   "pygments_lexer": "ipython3",
   "version": "3.6.9"
  }
 },
 "nbformat": 4,
 "nbformat_minor": 2
}
