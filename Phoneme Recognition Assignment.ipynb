{
  "cells": [
    {
      "cell_type": "markdown",
      "metadata": {
        "id": "MVQXC_dSs44_"
      },
      "source": [
        "# Assignment 1 Part B - Phoneme Recognition\n",
        "\n",
        "Welcome to the second part of the assignment! Make sure to read the writeup before beginning work here."
      ]
    },
    {
      "cell_type": "markdown",
      "metadata": {
        "id": "-2cBVwfds45L"
      },
      "source": [
        "## Setup/Importing"
      ]
    },
    {
      "cell_type": "code",
      "execution_count": 13,
      "metadata": {
        "id": "NfYu7R3us45L",
        "colab": {
          "base_uri": "https://localhost:8080/"
        },
        "outputId": "d7689cb5-9dee-440e-fd9d-689c8564c9d8"
      },
      "outputs": [
        {
          "output_type": "stream",
          "name": "stdout",
          "text": [
            "Mounted at /content/drive\n"
          ]
        }
      ],
      "source": [
        "# TODO: Run this cell and follow instructions to connect this notebook to Google Drive\n",
        "# Additional guidance: https://colab.research.google.com/notebooks/io.ipynb\n",
        "\n",
        "try:\n",
        "    from google.colab import drive\n",
        "    drive.mount('/content/drive')\n",
        "except ImportError:\n",
        "    print(\"Not on google drive\")"
      ]
    },
    {
      "cell_type": "code",
      "execution_count": 14,
      "metadata": {
        "colab": {
          "base_uri": "https://localhost:8080/"
        },
        "id": "YvVZOd0mvAB2",
        "outputId": "587066e0-949f-45a4-98d3-478238bbba60"
      },
      "outputs": [
        {
          "output_type": "stream",
          "name": "stdout",
          "text": [
            "/content/drive/MyDrive/ALL/ML_DL_DS/CMU_Deep_Learning/Assignment_1b\n"
          ]
        }
      ],
      "source": [
        "# TODO: Change directories (\"cd\") to the folder containing your\n",
        "# notebook and data folder by replacing the filepath below\n",
        "%cd /content/drive/MyDrive/ALL/ML_DL_DS/CMU_Deep_Learning/Assignment_1b/"
      ]
    },
    {
      "cell_type": "code",
      "execution_count": 15,
      "metadata": {
        "id": "dJHCBkjO3dHJ"
      },
      "outputs": [],
      "source": [
        "# TODO Run this cell to download the data from Amazon AWS\n",
        "# TODO If needed, replace your the local Google Drive path (/content/drive/MyDrive/pa1b/) with a path that works for you\n",
        "\n",
        "# !wget -P /content/drive/MyDrive/ALL/ML_DL_DS/CMU_Deep_Learning/Assignment_1b/Data https://cmu-dele-leaderboard-us-east-2-003014019879.s3.us-east-2.amazonaws.com/colab/pa1b/data1pb.zip"
      ]
    },
    {
      "cell_type": "code",
      "execution_count": 16,
      "metadata": {
        "id": "aCsRHqe83dHJ"
      },
      "outputs": [],
      "source": [
        "# TODO Run this cell to unzip the data from Amazon AWS to your local Drive\n",
        "# TODO If needed, replace your the local Google Drive path (/content/drive/MyDrive/pa1b/data1pb.zip) with a path that works for you\n",
        "\n",
        "\n",
        "# !unzip /content/drive/MyDrive/ALL/ML_DL_DS/CMU_Deep_Learning/Assignment_1b/Data/data1pb.zip"
      ]
    },
    {
      "cell_type": "code",
      "execution_count": 17,
      "metadata": {
        "id": "Zqq0_ZBSs45H",
        "colab": {
          "base_uri": "https://localhost:8080/"
        },
        "outputId": "e27dbadf-e605-44a3-c4d1-9f4ec8603a5b"
      },
      "outputs": [
        {
          "output_type": "stream",
          "name": "stdout",
          "text": [
            "The autoreload extension is already loaded. To reload it, use:\n",
            "  %reload_ext autoreload\n"
          ]
        }
      ],
      "source": [
        "# TODO: Run this cell to import packages\n",
        "import numpy as np\n",
        "import torch\n",
        "import torch.nn as nn\n",
        "from tqdm.notebook import tqdm\n",
        "\n",
        "import os\n",
        "\n",
        "%load_ext autoreload\n",
        "%autoreload 2"
      ]
    },
    {
      "cell_type": "markdown",
      "metadata": {
        "id": "mv7pNwQl51uh"
      },
      "source": [
        "### Auto-detect if GPU is available"
      ]
    },
    {
      "cell_type": "code",
      "execution_count": 18,
      "metadata": {
        "colab": {
          "base_uri": "https://localhost:8080/"
        },
        "id": "EQh4445Wtkfg",
        "outputId": "612e9e7b-9049-4a00-a795-760951ce9109"
      },
      "outputs": [
        {
          "output_type": "stream",
          "name": "stdout",
          "text": [
            "cuda\n"
          ]
        }
      ],
      "source": [
        "# TODO: Run this cell to automatically detect if GPU is available.\n",
        "# Output should be 'cuda' if you are expecting to be on a GPU\n",
        "# If the output is equal to 'cpu', click on 'Runtime' in the top menu, then 'Change Runtime Type', and select 'GPU'\n",
        "\n",
        "DEVICE = torch.device('cuda' if torch.cuda.is_available() else 'cpu')\n",
        "print(DEVICE)"
      ]
    },
    {
      "cell_type": "markdown",
      "metadata": {
        "id": "mgBtE_Jas45M"
      },
      "source": [
        "# Section 1: `Dataset`/`DataLoader`\n",
        "\n",
        "When working with any dataset in `torch`, you'll almost always work with a `Dataset` and `DataLoader` object. Here's an overview of what they usually do:\n",
        "\n",
        "`torch.utils.data.Dataset`\n",
        "- Stores dataset (usually a single tensor or list of tensors) inside the object\n",
        "    - Happens in `__init__()` function\n",
        "- Defines how many observations are in the dataset\n",
        "    - In `__len__()`\n",
        "- Defines how to retrieve a single observation from the dataset given its index from 0 inclusive to `__len__()` exclusive\n",
        "    - In `__getitem__()`\n",
        "\n",
        "\n",
        "`torch.utils.data.DataLoader`\n",
        "- Queries and batches observations from an initialized `Dataset`\n",
        "- If `shuffle=True`, shuffles dataset for you every epoch (do this for training, not validation / testing)\n",
        "- Handles basic multiprocessing\n",
        "\n",
        "Some specialized datasets (like in this assignment) usually need a custom `Dataset` class. However, for popular datasets, there are often existing implementations, like those found [here](https://pytorch.org/vision/stable/datasets.html)."
      ]
    },
    {
      "cell_type": "markdown",
      "metadata": {
        "id": "xKEqViBhs45N"
      },
      "source": [
        "## Question 1.1: Initialize Dataset\n",
        "Fortunately we've already written the custom `Dataset` for you.\n",
        "\n",
        "Open `utils.py`, find `KContextSpectrograms`, and read through it to understand how it works and what initialization parameters are required. Afterwards, complete and run each cell marked with `# TODO`."
      ]
    },
    {
      "cell_type": "code",
      "execution_count": 19,
      "metadata": {
        "colab": {
          "base_uri": "https://localhost:8080/",
          "height": 35
        },
        "id": "yQfAZ8GKvmIN",
        "outputId": "0aacf949-3124-41fe-c43e-31ab90990ef4"
      },
      "outputs": [
        {
          "output_type": "execute_result",
          "data": {
            "text/plain": [
              "'/content/drive/MyDrive/ALL/ML_DL_DS/CMU_Deep_Learning/Assignment_1b'"
            ],
            "application/vnd.google.colaboratory.intrinsic+json": {
              "type": "string"
            }
          },
          "metadata": {},
          "execution_count": 19
        }
      ],
      "source": [
        "pwd"
      ]
    },
    {
      "cell_type": "code",
      "execution_count": 20,
      "metadata": {
        "colab": {
          "base_uri": "https://localhost:8080/"
        },
        "id": "ZFW9qf8l3dHM",
        "outputId": "334c3f19-de0c-4390-c9b6-37467efb1543"
      },
      "outputs": [
        {
          "output_type": "stream",
          "name": "stdout",
          "text": [
            "# milliseconds covered with context 38: 795\n"
          ]
        }
      ],
      "source": [
        "from utils_ import num_ms\n",
        "\n",
        "# TODO: Specify the desired number of context frames to concatenate to each side of your target,\n",
        "# then run this cell to preview how many milliseconds will be covered with your selected `k`\n",
        "k = 38\n",
        "\n",
        "print(f\"# milliseconds covered with context {k}:\", num_ms(k))"
      ]
    },
    {
      "cell_type": "code",
      "execution_count": 21,
      "metadata": {
        "colab": {
          "base_uri": "https://localhost:8080/"
        },
        "id": "q3PK3N6v3UIo",
        "outputId": "35709912-d2df-4c5e-a7cd-80a07a65763c"
      },
      "outputs": [
        {
          "output_type": "stream",
          "name": "stdout",
          "text": [
            "/content/drive/MyDrive/ALL/ML_DL_DS/CMU_Deep_Learning/Assignment_1b/data\n"
          ]
        }
      ],
      "source": [
        "cd data"
      ]
    },
    {
      "cell_type": "code",
      "execution_count": 22,
      "metadata": {
        "id": "CxQMxHvQs45O"
      },
      "outputs": [],
      "source": [
        "# TODO: Initialize dataset objects for training, validation, and testing.\n",
        "from utils_ import KContextSpectrograms\n",
        "\n",
        "train_dataset = KContextSpectrograms(data_path = 'train.npy', labels_path = 'train_labels.npy', k=k)\n",
        "val_dataset = KContextSpectrograms(data_path = 'val.npy', labels_path = 'val_labels.npy', k=k)\n",
        "test_dataset = KContextSpectrograms(data_path = 'test.npy', labels_path = None, k=k)"
      ]
    },
    {
      "cell_type": "markdown",
      "metadata": {
        "id": "JahKLOlO3dHN"
      },
      "source": [
        "## Question 1.2: Initialize DataLoaders\n",
        "Although `Dataset`s frequently need custom implementations, `DataLoader`s are usually standard.\n",
        "\n",
        "Use [this documentation](https://pytorch.org/docs/stable/data.html#torch.utils.data.DataLoader) to guide you on implementing the following instructions:\n",
        "\n",
        "- Specify an adequate batch size (see writeup)\n",
        "- Initialize training dataloader with batch size, pinned memory, number of workers, and with shuffling.\n",
        "- Initialize validation dataloader and test dataloader with your batch size, pinned memory, number of workers, and WITHOUT shuffling.\n",
        "    - We don't shuffle val because we're just calculating the accuracy on every observation, so shuffling just slows things down without mattering\n",
        "    - We don't shuffle test because we need to export our predictions in the correct order\n",
        "    - We use num_workers equal to cpu count to prepare data in parallel\n",
        "    - We pin memory to speed up data transfer\n",
        "\n",
        "**Hint**: For examples of initializing `Dataset`s/`DataLoader`s, see [here](https://pytorch.org/tutorials/beginner/basics/data_tutorial.html)."
      ]
    },
    {
      "cell_type": "code",
      "execution_count": 23,
      "metadata": {
        "id": "qCfj4p1Q5Omn"
      },
      "outputs": [],
      "source": [
        "from torch.utils.data import DataLoader\n",
        "\n",
        "# TODO: Specify how many observations should go in each batch\n",
        "batch_size = 1024\n",
        "\n",
        "# pass num_workers into each dataloader\n",
        "num_workers = os.cpu_count()\n",
        "\n",
        "# TODO: Initialize `Dataloader` objects for training, validation, and testing.\n",
        "train_dataloader = DataLoader(train_dataset, batch_size=batch_size, shuffle=True)\n",
        "val_dataloader = DataLoader(val_dataset, batch_size=batch_size, shuffle=True)\n",
        "test_dataloader = DataLoader(test_dataset, batch_size=batch_size, shuffle=True)"
      ]
    },
    {
      "cell_type": "markdown",
      "metadata": {
        "id": "nhQW0BG7s45P"
      },
      "source": [
        "# Section 2: Training/Validation/Prediction Routines\n",
        "\n",
        "Below are a few given methods that should look familiar, but there are some important differences you should try to spot. Read these through carefully."
      ]
    },
    {
      "cell_type": "code",
      "execution_count": 24,
      "metadata": {
        "id": "rmWeJYQ93dHP"
      },
      "outputs": [],
      "source": [
        "# [Given] ALREADY COMPLETED, SHOWN JUST FOR YOUR REFERENCE\n",
        "def train(model, optimizer, scheduler, train_dataloader, val_dataloader, num_epochs):\n",
        "    \"\"\"[Given] Trains and validates network for `num_epochs`\n",
        "\n",
        "    Args:\n",
        "        model (nn.Sequential): Initialized network, stored in an `nn.Sequential` object.\n",
        "        optimizer (optim.Optimizer): Initialized optimizer like `optim.SGD` or `optim.Adam`\n",
        "        scheduler (optim.lr_scheduler): Initialized scheduler like `optim.lr_scheduler.ReduceLROnPlateau` (or None)\n",
        "        train_dataloader (torch.utils.data.DataLoader): Initialized training dataloader\n",
        "        val_dataloader (torch.utils.data.DataLoader): Initialized validation dataloader\n",
        "        num_epochs (int): # epochs to train for\n",
        "    Returns:\n",
        "        list, list: losses is the loss per every batch, val_accuracies is the val accuracy per epoch\n",
        "    \"\"\"\n",
        "    losses = []\n",
        "    val_accuracies = []\n",
        "\n",
        "    for e in range(num_epochs):\n",
        "        # No need to manually reshuffle; `Dataloader` handles that for you!\n",
        "        # Train model for one epoch\n",
        "        epoch_losses = train_epoch(model, optimizer, train_dataloader, scheduler)\n",
        "        losses.extend(epoch_losses)\n",
        "\n",
        "        # Evaluate model on validation set, track accuracy\n",
        "        val_accuracy = validate(model, val_dataloader)\n",
        "        print(100 * val_accuracy)\n",
        "        val_accuracies.append(val_accuracy)\n",
        "\n",
        "    return losses, val_accuracies"
      ]
    },
    {
      "cell_type": "code",
      "execution_count": 25,
      "metadata": {
        "id": "pP-knU9ms45T"
      },
      "outputs": [],
      "source": [
        "# [Given] ALREADY COMPLETED, SHOWN JUST FOR YOUR REFERENCE\n",
        "def validate(model, dataloader):\n",
        "    \"\"\"[Given] Evaluates network and calculates accuracy for a full validation dataset.\n",
        "\n",
        "    Args:\n",
        "        model (nn.Sequential): Your initialized network, stored in a `Sequential` object.\n",
        "        dataloader (torch.utils.data.DataLoader): Initialized validation dataloader\n",
        "\n",
        "    Returns:\n",
        "        float: Accuracy rate for entire val set.\n",
        "    \"\"\"\n",
        "    # Set model to evaluate mode (train mode is `.train()`)\n",
        "    model.eval()\n",
        "\n",
        "    total_correct = 0\n",
        "    # Run loop with `tqdm` progress bar\n",
        "    for i, (data, labels) in tqdm.tqdm(enumerate(dataloader), total=len(dataloader)):\n",
        "        # Put tensors on specified device (GPU or CPU)\n",
        "        data, labels = data.to(DEVICE), labels.to(DEVICE)\n",
        "        logits = model(data)\n",
        "        num_correct = (logits.argmax(axis=1) == labels).cpu().numpy().sum()\n",
        "        total_correct += num_correct\n",
        "    return total_correct / len(dataloader.dataset)"
      ]
    },
    {
      "cell_type": "code",
      "execution_count": 25,
      "metadata": {
        "id": "fszdehir3I6c"
      },
      "outputs": [],
      "source": []
    },
    {
      "cell_type": "markdown",
      "metadata": {
        "id": "9aW5b7K4s45Q"
      },
      "source": [
        "## Question 2.1: `train_epoch()`\n",
        "\n",
        "Now to write the training routine of a single epoch.\n",
        "\n",
        "See the `validate()` method especially for hints, section 4 [here](https://pytorch.org/tutorials/beginner/blitz/cifar10_tutorial.html) is also a good reference.\n",
        "\n",
        "```\n",
        "def train_epoch():\n",
        "    set_model_to_train_mode()\n",
        "    loss_function = create_loss_function_object() # cross entropy!\n",
        "    for (data, labels) in tqdm(dataloader):\n",
        "        data, labels = put_tensors_on_appropriate_device(DEVICE, data, labels) # See val method for hint\n",
        "        reset_gradients_to_zero()\n",
        "        logits = forward_pass_through_model(model, data)\n",
        "        loss = loss_function(logits, labels)\n",
        "        run_backprop() # look up how torch does this; it's slightly different from what you did in part A\n",
        "        update_model_params() # using the optimizer\n",
        "        store_loss_value(loss)\n",
        "    return loss_values\n",
        "```"
      ]
    },
    {
      "cell_type": "code",
      "execution_count": 26,
      "metadata": {
        "id": "pN7m5dlRs45R"
      },
      "outputs": [],
      "source": [
        "import torch\n",
        "import tqdm\n",
        "\n",
        "def train_epoch(model, optimizer, dataloader, scheduler=None):\n",
        "    \"\"\"Train model for one epoch.\n",
        "\n",
        "    Args:\n",
        "        model (nn.Sequential): Initialized network, stored in a `nn.Sequential` object.\n",
        "        optimizer (optim.Optimizer): Initialized optimizer like `optim.SGD` or `optim.Adam`\n",
        "        dataloader (torch.utils.data.DataLoader): Initialized training dataloader\n",
        "        scheduler (optim.lr_scheduler): Optional scheduler if you want it\n",
        "\n",
        "    Returns:\n",
        "        list: Loss value of each batch for this epoch.\n",
        "    \"\"\"\n",
        "    # Set the model to training mode\n",
        "    model.train()\n",
        "\n",
        "    # Append loss values to this list.\n",
        "    loss_per_batch = []\n",
        "\n",
        "    # Run loop with `tqdm` progress bar\n",
        "    for i, (data, labels) in tqdm.tqdm(enumerate(dataloader), total=len(dataloader)):\n",
        "        # Move data and labels to the GPU if available\n",
        "        data, labels = data.to(DEVICE), labels.to(DEVICE)  # Assuming `device` is correctly set\n",
        "\n",
        "        # Zero the gradients\n",
        "        optimizer.zero_grad()\n",
        "\n",
        "        # Forward pass\n",
        "        outputs = model(data)\n",
        "\n",
        "        # Compute the loss\n",
        "        criterion = torch.nn.CrossEntropyLoss()\n",
        "        loss = criterion(outputs, labels)\n",
        "\n",
        "        # Backpropagation\n",
        "        loss.backward()\n",
        "\n",
        "        # Update the model's parameters\n",
        "        optimizer.step()\n",
        "\n",
        "        # Store the loss value for the batch\n",
        "        loss_per_batch.append(loss.item())\n",
        "\n",
        "    # (Feel free to change) If scheduler, determine if we should change LR based on some metric\n",
        "    if scheduler is not None:\n",
        "        scheduler.step(sum(loss_per_batch)) # This assumes ReduceLROnPlateau; the choice of using sum is fairly arbitrary.\n",
        "\n",
        "    return loss_per_batch\n"
      ]
    },
    {
      "cell_type": "markdown",
      "metadata": {
        "id": "pSKQZhYBs45S"
      },
      "source": [
        "## Question 2.2: `predict()`\n",
        "\n",
        "This method is very similar to the `validate()` method we gave above. It's used to generate predictions for all observations in the test dataset.\n",
        "\n",
        "You can assume that the dataloader is NOT shuffled. Each batch you receive will have `batch_size` number of observations (no labels), and you want to `extend` a list containing your previous predictions. The end result will be a 1-dimensional list containing integers, the same length as the test dataset."
      ]
    },
    {
      "cell_type": "code",
      "execution_count": 27,
      "metadata": {
        "id": "3pFrOcU6tqVc"
      },
      "outputs": [],
      "source": [
        "import torch\n",
        "import tqdm\n",
        "\n",
        "def predict(model, dataloader):\n",
        "    \"\"\"Generates predictions for the test dataset.\n",
        "\n",
        "    Args:\n",
        "        model (nn.Sequential): Your initialized network, stored in a `Sequential` object.\n",
        "        dataloader (torch.utils.data.DataLoader): Initialized test dataloader\n",
        "\n",
        "    Returns:\n",
        "        list: should be the same length as the test dataset, and containing ints (or numpy integers)\n",
        "    \"\"\"\n",
        "    model.eval()\n",
        "\n",
        "    preds = []\n",
        "    for i, data in tqdm.tqdm(enumerate(dataloader), total=len(dataloader)):\n",
        "        data = data.to(DEVICE)  # Assuming you have defined the DEVICE variable\n",
        "\n",
        "        # Forward pass to get the logits\n",
        "        with torch.no_grad():\n",
        "            logits = model(data)\n",
        "\n",
        "        # Get the predicted class (assuming a classification task)\n",
        "        predicted = torch.argmax(logits, dim=1)\n",
        "\n",
        "        # Extend the preds list with the predicted values\n",
        "        preds.extend(predicted.cpu().numpy())  # Convert to numpy array and move to CPU\n",
        "\n",
        "    return preds\n"
      ]
    },
    {
      "cell_type": "markdown",
      "metadata": {
        "id": "FW3-T-pMs45U"
      },
      "source": [
        "# Section 3: Training\n",
        "\n",
        "You're done with the major coding work! Now just to initialize your model/optimizer and begin training."
      ]
    },
    {
      "cell_type": "code",
      "execution_count": 28,
      "metadata": {
        "id": "rqgdKvPxs45W"
      },
      "outputs": [],
      "source": [
        "import torch\n",
        "import torch.nn as nn\n",
        "import torch.optim as optim\n",
        "\n",
        "# TODO: Define your model architecture\n",
        "model = nn.Sequential(\n",
        "                      nn.Linear(3080, 1024),\n",
        "                      nn.BatchNorm1d(1024),\n",
        "                      nn.ReLU(),\n",
        "                      nn.Linear(1024, 1024),\n",
        "                      nn.BatchNorm1d(1024),\n",
        "                      nn.ReLU(),\n",
        "                      nn.Linear(1024, 1024),\n",
        "                      nn.BatchNorm1d(1024),\n",
        "                      nn.ReLU(),\n",
        "                      nn.Linear(1024, 512),\n",
        "                      nn.BatchNorm1d(512),\n",
        "                      nn.ReLU(),\n",
        "                      nn.Linear(512, 256),\n",
        "                      nn.BatchNorm1d(256),\n",
        "                      nn.ReLU(),\n",
        "                      nn.Linear(256, 256),\n",
        "                      nn.BatchNorm1d(256),\n",
        "                      nn.ReLU()\n",
        ")\n",
        "\n",
        "# TODO: Put your model on `DEVICE` (e.g., \"cuda:0\" for GPU or \"cpu\" for CPU)\n",
        "DEVICE = \"cuda:0\" if torch.cuda.is_available() else \"cpu\"\n",
        "model.to(DEVICE)\n",
        "\n",
        "# TODO: Initialize your optimizer (e.g., Adam optimizer)\n",
        "optimizer = optim.Adam(model.parameters(), lr=0.001)  # Adjust the learning rate as needed\n",
        "\n",
        "# TODO: (optional) Initialize scheduler if you want to use learning rate scheduling"
      ]
    },
    {
      "cell_type": "code",
      "execution_count": 29,
      "metadata": {
        "colab": {
          "base_uri": "https://localhost:8080/"
        },
        "id": "GRiQqhbB3dHT",
        "outputId": "c388b76c-cfd7-488b-9dee-9b74dc89ec86"
      },
      "outputs": [
        {
          "metadata": {
            "tags": null
          },
          "name": "stderr",
          "output_type": "stream",
          "text": [
            "100%|██████████| 18050/18050 [12:13<00:00, 24.61it/s]\n",
            "100%|██████████| 1523/1523 [00:43<00:00, 34.96it/s]\n"
          ]
        },
        {
          "metadata": {
            "tags": null
          },
          "name": "stdout",
          "output_type": "stream",
          "text": [
            "73.94861124384803\n"
          ]
        },
        {
          "metadata": {
            "tags": null
          },
          "name": "stderr",
          "output_type": "stream",
          "text": [
            "100%|██████████| 18050/18050 [12:02<00:00, 24.97it/s]\n",
            "100%|██████████| 1523/1523 [00:41<00:00, 36.55it/s]\n"
          ]
        },
        {
          "metadata": {
            "tags": null
          },
          "name": "stdout",
          "output_type": "stream",
          "text": [
            "74.52338176218059\n"
          ]
        },
        {
          "metadata": {
            "tags": null
          },
          "name": "stderr",
          "output_type": "stream",
          "text": [
            "100%|██████████| 18050/18050 [11:36<00:00, 25.92it/s]\n",
            "100%|██████████| 1523/1523 [00:41<00:00, 36.60it/s]\n"
          ]
        },
        {
          "metadata": {
            "tags": null
          },
          "name": "stdout",
          "output_type": "stream",
          "text": [
            "74.44172984053822\n"
          ]
        },
        {
          "metadata": {
            "tags": null
          },
          "name": "stderr",
          "output_type": "stream",
          "text": [
            "100%|██████████| 18050/18050 [11:34<00:00, 26.00it/s]\n",
            "100%|██████████| 1523/1523 [00:42<00:00, 36.16it/s]\n"
          ]
        },
        {
          "metadata": {
            "tags": null
          },
          "name": "stdout",
          "output_type": "stream",
          "text": [
            "74.29580829950412\n"
          ]
        },
        {
          "output_type": "stream",
          "name": "stderr",
          "text": [
            "100%|██████████| 18050/18050 [11:39<00:00, 25.82it/s]\n",
            "100%|██████████| 1523/1523 [00:41<00:00, 36.30it/s]\n"
          ]
        },
        {
          "output_type": "stream",
          "name": "stdout",
          "text": [
            "74.0056328921906\n"
          ]
        },
        {
          "output_type": "stream",
          "name": "stderr",
          "text": [
            "100%|██████████| 18050/18050 [12:03<00:00, 24.96it/s]\n",
            "100%|██████████| 1523/1523 [00:44<00:00, 33.98it/s]\n"
          ]
        },
        {
          "output_type": "stream",
          "name": "stdout",
          "text": [
            "73.79370991567339\n"
          ]
        },
        {
          "output_type": "stream",
          "name": "stderr",
          "text": [
            "100%|██████████| 18050/18050 [12:15<00:00, 24.55it/s]\n",
            "100%|██████████| 1523/1523 [00:43<00:00, 35.32it/s]\n"
          ]
        },
        {
          "output_type": "stream",
          "name": "stdout",
          "text": [
            "73.54420011583926\n"
          ]
        },
        {
          "output_type": "stream",
          "name": "stderr",
          "text": [
            "100%|██████████| 18050/18050 [12:15<00:00, 24.54it/s]\n",
            "100%|██████████| 1523/1523 [00:42<00:00, 35.57it/s]\n"
          ]
        },
        {
          "output_type": "stream",
          "name": "stdout",
          "text": [
            "73.40591139387463\n"
          ]
        },
        {
          "output_type": "stream",
          "name": "stderr",
          "text": [
            "100%|██████████| 18050/18050 [12:14<00:00, 24.58it/s]\n",
            "100%|██████████| 1523/1523 [00:43<00:00, 34.67it/s]\n"
          ]
        },
        {
          "output_type": "stream",
          "name": "stdout",
          "text": [
            "73.27923225385602\n"
          ]
        },
        {
          "output_type": "stream",
          "name": "stderr",
          "text": [
            "100%|██████████| 18050/18050 [12:17<00:00, 24.47it/s]\n",
            "100%|██████████| 1523/1523 [00:43<00:00, 35.15it/s]"
          ]
        },
        {
          "output_type": "stream",
          "name": "stdout",
          "text": [
            "73.18109600867703\n"
          ]
        },
        {
          "output_type": "stream",
          "name": "stderr",
          "text": [
            "\n"
          ]
        }
      ],
      "source": [
        "# TODO: Call your training routine for some epochs (train)\n",
        "num_epochs = 10\n",
        "\n",
        "losses, val_accuracies = train(model=model,\n",
        "                               optimizer=optimizer,\n",
        "                               scheduler = None,\n",
        "                               train_dataloader = train_dataloader,\n",
        "                               val_dataloader = val_dataloader,\n",
        "                               num_epochs = num_epochs)"
      ]
    },
    {
      "cell_type": "code",
      "execution_count": 30,
      "metadata": {
        "id": "prWEQFwz3dHT",
        "colab": {
          "base_uri": "https://localhost:8080/",
          "height": 472
        },
        "outputId": "6e0c2552-9cff-4825-a52b-11999b16d85f"
      },
      "outputs": [
        {
          "output_type": "display_data",
          "data": {
            "text/plain": [
              "<Figure size 640x480 with 1 Axes>"
            ],
            "image/png": "[encoded data removed]"
          },
          "metadata": {}
        }
      ],
      "source": [
        "# [GIVEN] You can plot your training loss progress using this function below.\n",
        "from utils_ import plot_loss\n",
        "\n",
        "plot_loss(losses, num_batches=len(train_dataloader), num_epochs=20)"
      ]
    },
    {
      "cell_type": "markdown",
      "metadata": {
        "id": "ITPLwKKzs45X"
      },
      "source": [
        "# Section 4: Predict Test Dataset and Submission\n",
        "\n",
        "If you're ready to submit, run these cells below and look for the output file generated in the `submissions/` folder (it will be time-stamped).\n",
        "\n",
        "**NOTE:** The first row of the CSV should look like this:\n",
        "\n",
        "`Id,Category`\n",
        "\n",
        "**Please remember to edit the second entry of the first row ('Category') to the name you want to appear on the leaderboard.**\n",
        "\n",
        "*e.g.* `Id, deepLearner`"
      ]
    },
    {
      "cell_type": "code",
      "execution_count": 31,
      "metadata": {
        "id": "ge3npxhn3dHU",
        "colab": {
          "base_uri": "https://localhost:8080/"
        },
        "outputId": "c4097ae1-c131-42ac-ad16-c79082f9dda5"
      },
      "outputs": [
        {
          "output_type": "stream",
          "name": "stderr",
          "text": [
            "100%|██████████| 1581/1581 [00:33<00:00, 47.64it/s]\n"
          ]
        }
      ],
      "source": [
        "preds = predict(model, test_dataloader)"
      ]
    },
    {
      "cell_type": "code",
      "source": [
        "preds.rename({'label':'Adrian'}, inplace = True)"
      ],
      "metadata": {
        "id": "CafwVQw6eQVk"
      },
      "execution_count": null,
      "outputs": []
    },
    {
      "cell_type": "code",
      "execution_count": 33,
      "metadata": {
        "id": "Oo2bEmc9s45Y",
        "colab": {
          "base_uri": "https://localhost:8080/"
        },
        "outputId": "dac85f8b-623a-42dd-9be3-441d0294eb87"
      },
      "outputs": [
        {
          "metadata": {
            "tags": null
          },
          "name": "stdout",
          "output_type": "stream",
          "text": [
            "Wrote predictions to submissions/submission_2023-09-17 22:06:58.454982.csv\n"
          ]
        }
      ],
      "source": [
        "from utils_ import export_predictions_to_csv\n",
        "\n",
        "export_predictions_to_csv(preds)"
      ]
    },
    {
      "cell_type": "markdown",
      "source": [
        "Change col name"
      ],
      "metadata": {
        "id": "PasoKrFdAj3V"
      }
    },
    {
      "cell_type": "code",
      "source": [
        "import pandas as pd\n",
        "def name(file_name, count):\n",
        "  df_1 = pd.read_csv(file_name)\n",
        "  df_1.rename(columns = {'label':'Adrian K'}, inplace = True)\n",
        "  df_1.to_csv(f'Adrian_Kazi_submission_{count}.csv')\n",
        "  return df_1\n",
        "\n",
        "name('submission_2023-09-17 18_47_42.179163.csv', 1)\n",
        "name('submission_2023-09-17 22_06_58.454982.csv', 2)"
      ],
      "metadata": {
        "colab": {
          "base_uri": "https://localhost:8080/",
          "height": 424
        },
        "id": "t3-PjDl0AkaX",
        "outputId": "7ffebeaf-a8a9-44fa-8c8e-b3c048b1f7de"
      },
      "execution_count": 7,
      "outputs": [
        {
          "output_type": "execute_result",
          "data": {
            "text/plain": [
              "              id  Adrian K\n",
              "0              0        22\n",
              "1              1        31\n",
              "2              2        13\n",
              "3              3        58\n",
              "4              4        57\n",
              "...          ...       ...\n",
              "1618830  1618830        46\n",
              "1618831  1618831        37\n",
              "1618832  1618832         0\n",
              "1618833  1618833        43\n",
              "1618834  1618834         8\n",
              "\n",
              "[1618835 rows x 2 columns]"
            ],
            "text/html": [
              "\n",
              "  <div id=\"df-32759cf5-bc8f-473f-b688-f882e2a5ccf1\" class=\"colab-df-container\">\n",
              "    <div>\n",
              "<style scoped>\n",
              "    .dataframe tbody tr th:only-of-type {\n",
              "        vertical-align: middle;\n",
              "    }\n",
              "\n",
              "    .dataframe tbody tr th {\n",
              "        vertical-align: top;\n",
              "    }\n",
              "\n",
              "    .dataframe thead th {\n",
              "        text-align: right;\n",
              "    }\n",
              "</style>\n",
              "<table border=\"1\" class=\"dataframe\">\n",
              "  <thead>\n",
              "    <tr style=\"text-align: right;\">\n",
              "      <th></th>\n",
              "      <th>id</th>\n",
              "      <th>Adrian K</th>\n",
              "    </tr>\n",
              "  </thead>\n",
              "  <tbody>\n",
              "    <tr>\n",
              "      <th>0</th>\n",
              "      <td>0</td>\n",
              "      <td>22</td>\n",
              "    </tr>\n",
              "    <tr>\n",
              "      <th>1</th>\n",
              "      <td>1</td>\n",
              "      <td>31</td>\n",
              "    </tr>\n",
              "    <tr>\n",
              "      <th>2</th>\n",
              "      <td>2</td>\n",
              "      <td>13</td>\n",
              "    </tr>\n",
              "    <tr>\n",
              "      <th>3</th>\n",
              "      <td>3</td>\n",
              "      <td>58</td>\n",
              "    </tr>\n",
              "    <tr>\n",
              "      <th>4</th>\n",
              "      <td>4</td>\n",
              "      <td>57</td>\n",
              "    </tr>\n",
              "    <tr>\n",
              "      <th>...</th>\n",
              "      <td>...</td>\n",
              "      <td>...</td>\n",
              "    </tr>\n",
              "    <tr>\n",
              "      <th>1618830</th>\n",
              "      <td>1618830</td>\n",
              "      <td>46</td>\n",
              "    </tr>\n",
              "    <tr>\n",
              "      <th>1618831</th>\n",
              "      <td>1618831</td>\n",
              "      <td>37</td>\n",
              "    </tr>\n",
              "    <tr>\n",
              "      <th>1618832</th>\n",
              "      <td>1618832</td>\n",
              "      <td>0</td>\n",
              "    </tr>\n",
              "    <tr>\n",
              "      <th>1618833</th>\n",
              "      <td>1618833</td>\n",
              "      <td>43</td>\n",
              "    </tr>\n",
              "    <tr>\n",
              "      <th>1618834</th>\n",
              "      <td>1618834</td>\n",
              "      <td>8</td>\n",
              "    </tr>\n",
              "  </tbody>\n",
              "</table>\n",
              "<p>1618835 rows × 2 columns</p>\n",
              "</div>\n",
              "    <div class=\"colab-df-buttons\">\n",
              "\n",
              "  <div class=\"colab-df-container\">\n",
              "    <button class=\"colab-df-convert\" onclick=\"convertToInteractive('df-32759cf5-bc8f-473f-b688-f882e2a5ccf1')\"\n",
              "            title=\"Convert this dataframe to an interactive table.\"\n",
              "            style=\"display:none;\">\n",
              "\n",
              "  <svg xmlns=\"http://www.w3.org/2000/svg\" height=\"24px\" viewBox=\"0 -960 960 960\">\n",
              "    <path d=\"M120-120v-720h720v720H120Zm60-500h600v-160H180v160Zm220 220h160v-160H400v160Zm0 220h160v-160H400v160ZM180-400h160v-160H180v160Zm440 0h160v-160H620v160ZM180-180h160v-160H180v160Zm440 0h160v-160H620v160Z\"/>\n",
              "  </svg>\n",
              "    </button>\n",
              "\n",
              "  <style>\n",
              "    .colab-df-container {\n",
              "      display:flex;\n",
              "      gap: 12px;\n",
              "    }\n",
              "\n",
              "    .colab-df-convert {\n",
              "      background-color: #E8F0FE;\n",
              "      border: none;\n",
              "      border-radius: 50%;\n",
              "      cursor: pointer;\n",
              "      display: none;\n",
              "      fill: #1967D2;\n",
              "      height: 32px;\n",
              "      padding: 0 0 0 0;\n",
              "      width: 32px;\n",
              "    }\n",
              "\n",
              "    .colab-df-convert:hover {\n",
              "      background-color: #E2EBFA;\n",
              "      box-shadow: 0px 1px 2px rgba(60, 64, 67, 0.3), 0px 1px 3px 1px rgba(60, 64, 67, 0.15);\n",
              "      fill: #174EA6;\n",
              "    }\n",
              "\n",
              "    .colab-df-buttons div {\n",
              "      margin-bottom: 4px;\n",
              "    }\n",
              "\n",
              "    [theme=dark] .colab-df-convert {\n",
              "      background-color: #3B4455;\n",
              "      fill: #D2E3FC;\n",
              "    }\n",
              "\n",
              "    [theme=dark] .colab-df-convert:hover {\n",
              "      background-color: #434B5C;\n",
              "      box-shadow: 0px 1px 3px 1px rgba(0, 0, 0, 0.15);\n",
              "      filter: drop-shadow(0px 1px 2px rgba(0, 0, 0, 0.3));\n",
              "      fill: #FFFFFF;\n",
              "    }\n",
              "  </style>\n",
              "\n",
              "    <script>\n",
              "      const buttonEl =\n",
              "        document.querySelector('#df-32759cf5-bc8f-473f-b688-f882e2a5ccf1 button.colab-df-convert');\n",
              "      buttonEl.style.display =\n",
              "        google.colab.kernel.accessAllowed ? 'block' : 'none';\n",
              "\n",
              "      async function convertToInteractive(key) {\n",
              "        const element = document.querySelector('#df-32759cf5-bc8f-473f-b688-f882e2a5ccf1');\n",
              "        const dataTable =\n",
              "          await google.colab.kernel.invokeFunction('convertToInteractive',\n",
              "                                                    [key], {});\n",
              "        if (!dataTable) return;\n",
              "\n",
              "        const docLinkHtml = 'Like what you see? Visit the ' +\n",
              "          '<a target=\"_blank\" href=https://colab.research.google.com/notebooks/data_table.ipynb>data table notebook</a>'\n",
              "          + ' to learn more about interactive tables.';\n",
              "        element.innerHTML = '';\n",
              "        dataTable['output_type'] = 'display_data';\n",
              "        await google.colab.output.renderOutput(dataTable, element);\n",
              "        const docLink = document.createElement('div');\n",
              "        docLink.innerHTML = docLinkHtml;\n",
              "        element.appendChild(docLink);\n",
              "      }\n",
              "    </script>\n",
              "  </div>\n",
              "\n",
              "\n",
              "<div id=\"df-4638dc78-639b-4eaf-aa6a-0b65c033c723\">\n",
              "  <button class=\"colab-df-quickchart\" onclick=\"quickchart('df-4638dc78-639b-4eaf-aa6a-0b65c033c723')\"\n",
              "            title=\"Suggest charts.\"\n",
              "            style=\"display:none;\">\n",
              "\n",
              "<svg xmlns=\"http://www.w3.org/2000/svg\" height=\"24px\"viewBox=\"0 0 24 24\"\n",
              "     width=\"24px\">\n",
              "    <g>\n",
              "        <path d=\"M19 3H5c-1.1 0-2 .9-2 2v14c0 1.1.9 2 2 2h14c1.1 0 2-.9 2-2V5c0-1.1-.9-2-2-2zM9 17H7v-7h2v7zm4 0h-2V7h2v10zm4 0h-2v-4h2v4z\"/>\n",
              "    </g>\n",
              "</svg>\n",
              "  </button>\n",
              "\n",
              "<style>\n",
              "  .colab-df-quickchart {\n",
              "      --bg-color: #E8F0FE;\n",
              "      --fill-color: #1967D2;\n",
              "      --hover-bg-color: #E2EBFA;\n",
              "      --hover-fill-color: #174EA6;\n",
              "      --disabled-fill-color: #AAA;\n",
              "      --disabled-bg-color: #DDD;\n",
              "  }\n",
              "\n",
              "  [theme=dark] .colab-df-quickchart {\n",
              "      --bg-color: #3B4455;\n",
              "      --fill-color: #D2E3FC;\n",
              "      --hover-bg-color: #434B5C;\n",
              "      --hover-fill-color: #FFFFFF;\n",
              "      --disabled-bg-color: #3B4455;\n",
              "      --disabled-fill-color: #666;\n",
              "  }\n",
              "\n",
              "  .colab-df-quickchart {\n",
              "    background-color: var(--bg-color);\n",
              "    border: none;\n",
              "    border-radius: 50%;\n",
              "    cursor: pointer;\n",
              "    display: none;\n",
              "    fill: var(--fill-color);\n",
              "    height: 32px;\n",
              "    padding: 0;\n",
              "    width: 32px;\n",
              "  }\n",
              "\n",
              "  .colab-df-quickchart:hover {\n",
              "    background-color: var(--hover-bg-color);\n",
              "    box-shadow: 0 1px 2px rgba(60, 64, 67, 0.3), 0 1px 3px 1px rgba(60, 64, 67, 0.15);\n",
              "    fill: var(--button-hover-fill-color);\n",
              "  }\n",
              "\n",
              "  .colab-df-quickchart-complete:disabled,\n",
              "  .colab-df-quickchart-complete:disabled:hover {\n",
              "    background-color: var(--disabled-bg-color);\n",
              "    fill: var(--disabled-fill-color);\n",
              "    box-shadow: none;\n",
              "  }\n",
              "\n",
              "  .colab-df-spinner {\n",
              "    border: 2px solid var(--fill-color);\n",
              "    border-color: transparent;\n",
              "    border-bottom-color: var(--fill-color);\n",
              "    animation:\n",
              "      spin 1s steps(1) infinite;\n",
              "  }\n",
              "\n",
              "  @keyframes spin {\n",
              "    0% {\n",
              "      border-color: transparent;\n",
              "      border-bottom-color: var(--fill-color);\n",
              "      border-left-color: var(--fill-color);\n",
              "    }\n",
              "    20% {\n",
              "      border-color: transparent;\n",
              "      border-left-color: var(--fill-color);\n",
              "      border-top-color: var(--fill-color);\n",
              "    }\n",
              "    30% {\n",
              "      border-color: transparent;\n",
              "      border-left-color: var(--fill-color);\n",
              "      border-top-color: var(--fill-color);\n",
              "      border-right-color: var(--fill-color);\n",
              "    }\n",
              "    40% {\n",
              "      border-color: transparent;\n",
              "      border-right-color: var(--fill-color);\n",
              "      border-top-color: var(--fill-color);\n",
              "    }\n",
              "    60% {\n",
              "      border-color: transparent;\n",
              "      border-right-color: var(--fill-color);\n",
              "    }\n",
              "    80% {\n",
              "      border-color: transparent;\n",
              "      border-right-color: var(--fill-color);\n",
              "      border-bottom-color: var(--fill-color);\n",
              "    }\n",
              "    90% {\n",
              "      border-color: transparent;\n",
              "      border-bottom-color: var(--fill-color);\n",
              "    }\n",
              "  }\n",
              "</style>\n",
              "\n",
              "  <script>\n",
              "    async function quickchart(key) {\n",
              "      const quickchartButtonEl =\n",
              "        document.querySelector('#' + key + ' button');\n",
              "      quickchartButtonEl.disabled = true;  // To prevent multiple clicks.\n",
              "      quickchartButtonEl.classList.add('colab-df-spinner');\n",
              "      try {\n",
              "        const charts = await google.colab.kernel.invokeFunction(\n",
              "            'suggestCharts', [key], {});\n",
              "      } catch (error) {\n",
              "        console.error('Error during call to suggestCharts:', error);\n",
              "      }\n",
              "      quickchartButtonEl.classList.remove('colab-df-spinner');\n",
              "      quickchartButtonEl.classList.add('colab-df-quickchart-complete');\n",
              "    }\n",
              "    (() => {\n",
              "      let quickchartButtonEl =\n",
              "        document.querySelector('#df-4638dc78-639b-4eaf-aa6a-0b65c033c723 button');\n",
              "      quickchartButtonEl.style.display =\n",
              "        google.colab.kernel.accessAllowed ? 'block' : 'none';\n",
              "    })();\n",
              "  </script>\n",
              "</div>\n",
              "    </div>\n",
              "  </div>\n"
            ]
          },
          "metadata": {},
          "execution_count": 7
        }
      ]
    }
  ],
  "metadata": {
    "accelerator": "GPU",
    "colab": {
      "provenance": [],
      "gpuType": "T4"
    },
    "kernelspec": {
      "display_name": "Python 3",
      "name": "python3"
    },
    "language_info": {
      "codemirror_mode": {
        "name": "ipython",
        "version": 3
      },
      "file_extension": ".py",
      "mimetype": "text/x-python",
      "name": "python",
      "nbconvert_exporter": "python",
      "pygments_lexer": "ipython3",
      "version": "3.9.9"
    }
  },
  "nbformat": 4,
  "nbformat_minor": 0
}