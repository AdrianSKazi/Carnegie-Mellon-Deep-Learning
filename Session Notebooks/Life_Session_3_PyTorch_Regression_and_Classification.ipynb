{
  "nbformat": 4,
  "nbformat_minor": 0,
  "metadata": {
    "colab": {
      "provenance": [],
      "toc_visible": true
    },
    "kernelspec": {
      "name": "python3",
      "display_name": "Python 3"
    },
    "language_info": {
      "name": "python"
    }
  },
  "cells": [
    {
      "cell_type": "code",
      "execution_count": 76,
      "metadata": {
        "id": "fsL7KVZccCZ5"
      },
      "outputs": [],
      "source": [
        "import torch\n",
        "import torch.nn as nn\n",
        "from torch import optim\n",
        "from torch.utils import data\n",
        "from torch.utils.data import Dataset, DataLoader\n",
        "import numpy as np\n",
        "import matplotlib.pyplot as plt"
      ]
    },
    {
      "cell_type": "markdown",
      "source": [
        "## Using Linear Model"
      ],
      "metadata": {
        "id": "eti0BnqcdJLM"
      }
    },
    {
      "cell_type": "code",
      "source": [
        "model = nn.Linear(in_features = 1, out_features = 1)"
      ],
      "metadata": {
        "id": "zZD5VUjidIXl"
      },
      "execution_count": 77,
      "outputs": []
    },
    {
      "cell_type": "markdown",
      "source": [
        "that instatiates weights accordingly to in_features and out_features"
      ],
      "metadata": {
        "id": "VsK0kP3Desky"
      }
    },
    {
      "cell_type": "code",
      "source": [
        "# parameters\n",
        "model.weight, model.bias"
      ],
      "metadata": {
        "colab": {
          "base_uri": "https://localhost:8080/"
        },
        "id": "AIlYm3LIey-q",
        "outputId": "f7595872-3ee7-4817-cc91-65f9a502adda"
      },
      "execution_count": 78,
      "outputs": [
        {
          "output_type": "execute_result",
          "data": {
            "text/plain": [
              "(Parameter containing:\n",
              " tensor([[0.9519]], requires_grad=True),\n",
              " Parameter containing:\n",
              " tensor([-0.6763], requires_grad=True))"
            ]
          },
          "metadata": {},
          "execution_count": 78
        }
      ]
    },
    {
      "cell_type": "markdown",
      "source": [
        "# PyTorch Regression"
      ],
      "metadata": {
        "id": "rn8i1WuxciiX"
      }
    },
    {
      "cell_type": "markdown",
      "source": [
        "## Data"
      ],
      "metadata": {
        "id": "qXERMj3GUpZi"
      }
    },
    {
      "cell_type": "code",
      "source": [
        "X = torch.randn(100,1)*10\n",
        "y = X + torch.randn(100,1)*2.5"
      ],
      "metadata": {
        "id": "OC2hWI61clfy"
      },
      "execution_count": 79,
      "outputs": []
    },
    {
      "cell_type": "code",
      "source": [
        "plt.scatter(X,y)"
      ],
      "metadata": {
        "colab": {
          "base_uri": "https://localhost:8080/",
          "height": 447
        },
        "id": "sy2iimabc9bc",
        "outputId": "44581220-25cd-4a56-b928-36da63848928"
      },
      "execution_count": 80,
      "outputs": [
        {
          "output_type": "execute_result",
          "data": {
            "text/plain": [
              "<matplotlib.collections.PathCollection at 0x79057bdbe920>"
            ]
          },
          "metadata": {},
          "execution_count": 80
        },
        {
          "output_type": "display_data",
          "data": {
            "text/plain": [
              "<Figure size 640x480 with 1 Axes>"
            ],
            "image/png": "[encoded data removed]"
          },
          "metadata": {}
        }
      ]
    },
    {
      "cell_type": "markdown",
      "source": [
        "We took just 1 input feature of X"
      ],
      "metadata": {
        "id": "No6qz-IBfI8l"
      }
    },
    {
      "cell_type": "code",
      "source": [
        "X[0]"
      ],
      "metadata": {
        "colab": {
          "base_uri": "https://localhost:8080/"
        },
        "id": "yRMfmNs_pZew",
        "outputId": "57404157-25a8-4cc3-f23f-1a447ff85104"
      },
      "execution_count": 81,
      "outputs": [
        {
          "output_type": "execute_result",
          "data": {
            "text/plain": [
              "tensor([20.1786])"
            ]
          },
          "metadata": {},
          "execution_count": 81
        }
      ]
    },
    {
      "cell_type": "markdown",
      "source": [
        "We could achieve that as well by $$x * weight + bias$$ since it's just linear model with single layer"
      ],
      "metadata": {
        "id": "r6Flyju6fW53"
      }
    },
    {
      "cell_type": "code",
      "source": [
        "X[0]*model.weight + model.bias"
      ],
      "metadata": {
        "colab": {
          "base_uri": "https://localhost:8080/"
        },
        "id": "ZWI32MnpfTCn",
        "outputId": "03feafc8-994f-47dc-b476-70a89146b0a6"
      },
      "execution_count": 82,
      "outputs": [
        {
          "output_type": "execute_result",
          "data": {
            "text/plain": [
              "tensor([[18.5309]], grad_fn=<AddBackward0>)"
            ]
          },
          "metadata": {},
          "execution_count": 82
        }
      ]
    },
    {
      "cell_type": "markdown",
      "source": [
        "## Linear Regression Model\n",
        "\n"
      ],
      "metadata": {
        "id": "IUWRyvXYf7s0"
      }
    },
    {
      "cell_type": "markdown",
      "source": [
        "### Forward Pass"
      ],
      "metadata": {
        "id": "H3ZtviooVAn-"
      }
    },
    {
      "cell_type": "markdown",
      "source": [
        "To use more layers we should use sequential function"
      ],
      "metadata": {
        "id": "DfYtYgzrgAl9"
      }
    },
    {
      "cell_type": "code",
      "source": [
        "class LinearRegression(nn.Module):\n",
        "  def __init__(self, input_size, output_size): # in init method we define the architecture of entire network\n",
        "    super().__init__() # we need super function to initialize built in class nn.Module\n",
        "    self.layer_1 = nn.Linear(input_size, output_size) # Instance of nn.Linear with input_size and output_size. As we can see we use only 1 layer in the whole model\n",
        "\n",
        "  def forward(self, x):\n",
        "    return self.layer_1(x) # returns the output of single linear layer\n"
      ],
      "metadata": {
        "id": "8S9gBvSlf-Zb"
      },
      "execution_count": 83,
      "outputs": []
    },
    {
      "cell_type": "code",
      "source": [
        "# instantiate\n",
        "lr = LinearRegression(5, 1) # we take 5 input_features and 1 output_feature"
      ],
      "metadata": {
        "id": "0BeHX3bglSrx"
      },
      "execution_count": 84,
      "outputs": []
    },
    {
      "cell_type": "code",
      "source": [
        "list(lr.parameters())"
      ],
      "metadata": {
        "colab": {
          "base_uri": "https://localhost:8080/"
        },
        "id": "tgtAn0BMmMC8",
        "outputId": "dbf21e42-c415-45f7-ba8c-69598196a636"
      },
      "execution_count": 85,
      "outputs": [
        {
          "output_type": "execute_result",
          "data": {
            "text/plain": [
              "[Parameter containing:\n",
              " tensor([[-0.1844,  0.3769, -0.2479, -0.1331, -0.1843]], requires_grad=True),\n",
              " Parameter containing:\n",
              " tensor([0.3533], requires_grad=True)]"
            ]
          },
          "metadata": {},
          "execution_count": 85
        }
      ]
    },
    {
      "cell_type": "markdown",
      "source": [
        "As we can see we have 5 weights for input features and 1 bias"
      ],
      "metadata": {
        "id": "evhlfKUImT5p"
      }
    },
    {
      "cell_type": "code",
      "source": [
        "# create an input\n",
        "x = torch.tensor([1.,2.,3.,4.,5.]) # we need decimal numbers\n",
        "x"
      ],
      "metadata": {
        "colab": {
          "base_uri": "https://localhost:8080/"
        },
        "id": "STIlS8Q3m5lS",
        "outputId": "d4af1a36-4f50-4660-a9e8-7999e480924c"
      },
      "execution_count": 86,
      "outputs": [
        {
          "output_type": "execute_result",
          "data": {
            "text/plain": [
              "tensor([1., 2., 3., 4., 5.])"
            ]
          },
          "metadata": {},
          "execution_count": 86
        }
      ]
    },
    {
      "cell_type": "code",
      "source": [
        "# pass data through network\n",
        "lr.forward(x)"
      ],
      "metadata": {
        "colab": {
          "base_uri": "https://localhost:8080/"
        },
        "id": "ipfz8QJ9nO2b",
        "outputId": "14e0a89e-c84b-4e0f-8f94-a6a73d53bd10"
      },
      "execution_count": 87,
      "outputs": [
        {
          "output_type": "execute_result",
          "data": {
            "text/plain": [
              "tensor([-1.2753], grad_fn=<AddBackward0>)"
            ]
          },
          "metadata": {},
          "execution_count": 87
        }
      ]
    },
    {
      "cell_type": "markdown",
      "source": [
        "And here is the prediction, however for now it contains no training since we used only froward pass on random weights."
      ],
      "metadata": {
        "id": "A6pq2fUMneOR"
      }
    },
    {
      "cell_type": "code",
      "source": [
        "# create a new model\n",
        "lr2 = LinearRegression(1, 1)\n",
        "lr2"
      ],
      "metadata": {
        "colab": {
          "base_uri": "https://localhost:8080/"
        },
        "id": "20lQv2Mrnqks",
        "outputId": "3dc97c6b-f192-4014-9b4a-c5329f8f951c"
      },
      "execution_count": 88,
      "outputs": [
        {
          "output_type": "execute_result",
          "data": {
            "text/plain": [
              "LinearRegression(\n",
              "  (layer_1): Linear(in_features=1, out_features=1, bias=True)\n",
              ")"
            ]
          },
          "metadata": {},
          "execution_count": 88
        }
      ]
    },
    {
      "cell_type": "markdown",
      "source": [
        "### Loss"
      ],
      "metadata": {
        "id": "ne4lLURopO8i"
      }
    },
    {
      "cell_type": "code",
      "source": [
        "# mse loss is a criterion\n",
        "criterion = nn.MSELoss()"
      ],
      "metadata": {
        "id": "muexu-ikpLUt"
      },
      "execution_count": 89,
      "outputs": []
    },
    {
      "cell_type": "markdown",
      "source": [
        "### Optimizer"
      ],
      "metadata": {
        "id": "7cdr4SF5pX-O"
      }
    },
    {
      "cell_type": "code",
      "source": [
        "optimizer = optim.SGD(lr2.parameters(), lr = .01) # we need to pass parameters and learning rate\n",
        "optimizer"
      ],
      "metadata": {
        "colab": {
          "base_uri": "https://localhost:8080/"
        },
        "id": "qcHXfrR3pZJY",
        "outputId": "87c2667b-23b3-4bca-cb54-5b039696a988"
      },
      "execution_count": 90,
      "outputs": [
        {
          "output_type": "execute_result",
          "data": {
            "text/plain": [
              "SGD (\n",
              "Parameter Group 0\n",
              "    dampening: 0\n",
              "    differentiable: False\n",
              "    foreach: None\n",
              "    lr: 0.01\n",
              "    maximize: False\n",
              "    momentum: 0\n",
              "    nesterov: False\n",
              "    weight_decay: 0\n",
              ")"
            ]
          },
          "metadata": {},
          "execution_count": 90
        }
      ]
    },
    {
      "cell_type": "markdown",
      "source": [
        "### Training Loop"
      ],
      "metadata": {
        "id": "YmMKAqyCpIcP"
      }
    },
    {
      "cell_type": "code",
      "source": [
        "epochs = 200\n",
        "losses = []\n",
        "\n",
        "for epoch in range(1, epochs + 1):\n",
        "  # weighted sum\n",
        "  yhat = lr2.forward(X)\n",
        "\n",
        "  # compute the loss\n",
        "  loss = criterion(yhat, y)\n",
        "  losses.append(loss)\n",
        "  if epoch%10 == 0:\n",
        "    print(f'Epoch {epoch}, Loss {loss}')\n",
        "\n",
        "  # zero out the gradient (we need to do it before the backward to not to acummulate gradients)\n",
        "  optimizer.zero_grad()\n",
        "\n",
        "  # backpropagate the loss\n",
        "  loss.backward()\n",
        "\n",
        "  # take gradient descent step\n",
        "  optimizer.step()"
      ],
      "metadata": {
        "colab": {
          "base_uri": "https://localhost:8080/"
        },
        "id": "wa--CvUMqAc7",
        "outputId": "b1787a38-b26a-4bc7-e6c5-52f4fcdf55e7"
      },
      "execution_count": 91,
      "outputs": [
        {
          "output_type": "stream",
          "name": "stdout",
          "text": [
            "Epoch 10, Loss 4.810103416442871\n",
            "Epoch 20, Loss 4.640031814575195\n",
            "Epoch 30, Loss 4.533871173858643\n",
            "Epoch 40, Loss 4.46340799331665\n",
            "Epoch 50, Loss 4.4162092208862305\n",
            "Epoch 60, Loss 4.384551525115967\n",
            "Epoch 70, Loss 4.363313674926758\n",
            "Epoch 80, Loss 4.349066257476807\n",
            "Epoch 90, Loss 4.339507579803467\n",
            "Epoch 100, Loss 4.333095073699951\n",
            "Epoch 110, Loss 4.328793525695801\n",
            "Epoch 120, Loss 4.3259077072143555\n",
            "Epoch 130, Loss 4.323970794677734\n",
            "Epoch 140, Loss 4.322671890258789\n",
            "Epoch 150, Loss 4.321800708770752\n",
            "Epoch 160, Loss 4.321216583251953\n",
            "Epoch 170, Loss 4.320823669433594\n",
            "Epoch 180, Loss 4.320560932159424\n",
            "Epoch 190, Loss 4.3203840255737305\n",
            "Epoch 200, Loss 4.320266246795654\n"
          ]
        }
      ]
    },
    {
      "cell_type": "markdown",
      "source": [
        "### Viz"
      ],
      "metadata": {
        "id": "cOe9zVIhD7C8"
      }
    },
    {
      "cell_type": "code",
      "source": [
        "losses[0].detach().numpy()"
      ],
      "metadata": {
        "colab": {
          "base_uri": "https://localhost:8080/"
        },
        "id": "g7k7DuoCEXjQ",
        "outputId": "d48fb59c-1049-4b07-a1ff-6dcbb616f2d7"
      },
      "execution_count": 92,
      "outputs": [
        {
          "output_type": "execute_result",
          "data": {
            "text/plain": [
              "array(5.126358, dtype=float32)"
            ]
          },
          "metadata": {},
          "execution_count": 92
        }
      ]
    },
    {
      "cell_type": "code",
      "source": [
        "losses[0]"
      ],
      "metadata": {
        "colab": {
          "base_uri": "https://localhost:8080/"
        },
        "id": "towdc6i1Egvv",
        "outputId": "51c9fee2-be18-4998-bb64-667a0492a39c"
      },
      "execution_count": 93,
      "outputs": [
        {
          "output_type": "execute_result",
          "data": {
            "text/plain": [
              "tensor(5.1264, grad_fn=<MseLossBackward0>)"
            ]
          },
          "metadata": {},
          "execution_count": 93
        }
      ]
    },
    {
      "cell_type": "code",
      "source": [
        "plt.plot(range(epochs), [i.detach().numpy() for i in losses], '--r')"
      ],
      "metadata": {
        "colab": {
          "base_uri": "https://localhost:8080/",
          "height": 447
        },
        "id": "MHl-2ObfD8i0",
        "outputId": "4e1c06a9-cb97-4de8-c3ee-177abce4209c"
      },
      "execution_count": 94,
      "outputs": [
        {
          "output_type": "execute_result",
          "data": {
            "text/plain": [
              "[<matplotlib.lines.Line2D at 0x79057be487f0>]"
            ]
          },
          "metadata": {},
          "execution_count": 94
        },
        {
          "output_type": "display_data",
          "data": {
            "text/plain": [
              "<Figure size 640x480 with 1 Axes>"
            ],
            "image/png": "[encoded data removed]"
          },
          "metadata": {}
        }
      ]
    },
    {
      "cell_type": "code",
      "source": [
        "# extract params\n",
        "w, b = lr2.parameters()\n",
        "w, b"
      ],
      "metadata": {
        "colab": {
          "base_uri": "https://localhost:8080/"
        },
        "id": "RWcyfVrgFO12",
        "outputId": "1f405387-d18d-4c58-e6f5-cffce9b1e11e"
      },
      "execution_count": 95,
      "outputs": [
        {
          "output_type": "execute_result",
          "data": {
            "text/plain": [
              "(Parameter containing:\n",
              " tensor([[0.9932]], requires_grad=True),\n",
              " Parameter containing:\n",
              " tensor([-0.1246], requires_grad=True))"
            ]
          },
          "metadata": {},
          "execution_count": 95
        }
      ]
    },
    {
      "cell_type": "code",
      "source": [
        "plt.scatter(X, y)\n",
        "plt.plot(X, w.detach() * X + b.detach(), '-r')"
      ],
      "metadata": {
        "colab": {
          "base_uri": "https://localhost:8080/",
          "height": 447
        },
        "id": "oDV3KSkdFdHi",
        "outputId": "e6f72542-bbe1-48d2-c91e-59d35b23e7cc"
      },
      "execution_count": 96,
      "outputs": [
        {
          "output_type": "execute_result",
          "data": {
            "text/plain": [
              "[<matplotlib.lines.Line2D at 0x79057bcad990>]"
            ]
          },
          "metadata": {},
          "execution_count": 96
        },
        {
          "output_type": "display_data",
          "data": {
            "text/plain": [
              "<Figure size 640x480 with 1 Axes>"
            ],
            "image/png": "[encoded data removed]"
          },
          "metadata": {}
        }
      ]
    },
    {
      "cell_type": "markdown",
      "source": [
        "# PyTorch Classification"
      ],
      "metadata": {
        "id": "vxYSb0b8M_rR"
      }
    },
    {
      "cell_type": "markdown",
      "source": [
        "## Data"
      ],
      "metadata": {
        "id": "gZeBbIpG67dZ"
      }
    },
    {
      "cell_type": "markdown",
      "source": [
        "For classification problem we can use exactly same model."
      ],
      "metadata": {
        "id": "fI9Kn1RENsXi"
      }
    },
    {
      "cell_type": "code",
      "source": [
        "from sklearn.datasets import load_breast_cancer\n",
        "\n",
        "cancer = load_breast_cancer()\n",
        "\n",
        "x = cancer.data\n",
        "y = cancer.target"
      ],
      "metadata": {
        "id": "5Ida_yiuNBzy"
      },
      "execution_count": 97,
      "outputs": []
    },
    {
      "cell_type": "code",
      "source": [
        "from sklearn.preprocessing import StandardScaler"
      ],
      "metadata": {
        "id": "fo1GFAgH3tPQ"
      },
      "execution_count": 98,
      "outputs": []
    },
    {
      "cell_type": "code",
      "source": [
        "x"
      ],
      "metadata": {
        "colab": {
          "base_uri": "https://localhost:8080/"
        },
        "id": "p8aNp21G4Ro8",
        "outputId": "b2fee37b-59fb-44bd-f043-530a703020be"
      },
      "execution_count": 99,
      "outputs": [
        {
          "output_type": "execute_result",
          "data": {
            "text/plain": [
              "array([[1.799e+01, 1.038e+01, 1.228e+02, ..., 2.654e-01, 4.601e-01,\n",
              "        1.189e-01],\n",
              "       [2.057e+01, 1.777e+01, 1.329e+02, ..., 1.860e-01, 2.750e-01,\n",
              "        8.902e-02],\n",
              "       [1.969e+01, 2.125e+01, 1.300e+02, ..., 2.430e-01, 3.613e-01,\n",
              "        8.758e-02],\n",
              "       ...,\n",
              "       [1.660e+01, 2.808e+01, 1.083e+02, ..., 1.418e-01, 2.218e-01,\n",
              "        7.820e-02],\n",
              "       [2.060e+01, 2.933e+01, 1.401e+02, ..., 2.650e-01, 4.087e-01,\n",
              "        1.240e-01],\n",
              "       [7.760e+00, 2.454e+01, 4.792e+01, ..., 0.000e+00, 2.871e-01,\n",
              "        7.039e-02]])"
            ]
          },
          "metadata": {},
          "execution_count": 99
        }
      ]
    },
    {
      "cell_type": "code",
      "source": [
        "scaler = StandardScaler()\n",
        "X = scaler.fit_transform(x)\n",
        "X"
      ],
      "metadata": {
        "colab": {
          "base_uri": "https://localhost:8080/"
        },
        "id": "0mwTeIiJ4qvA",
        "outputId": "a1370924-1d79-469d-d724-9a2cee62a7fc"
      },
      "execution_count": 100,
      "outputs": [
        {
          "output_type": "execute_result",
          "data": {
            "text/plain": [
              "array([[ 1.09706398, -2.07333501,  1.26993369, ...,  2.29607613,\n",
              "         2.75062224,  1.93701461],\n",
              "       [ 1.82982061, -0.35363241,  1.68595471, ...,  1.0870843 ,\n",
              "        -0.24388967,  0.28118999],\n",
              "       [ 1.57988811,  0.45618695,  1.56650313, ...,  1.95500035,\n",
              "         1.152255  ,  0.20139121],\n",
              "       ...,\n",
              "       [ 0.70228425,  2.0455738 ,  0.67267578, ...,  0.41406869,\n",
              "        -1.10454895, -0.31840916],\n",
              "       [ 1.83834103,  2.33645719,  1.98252415, ...,  2.28998549,\n",
              "         1.91908301,  2.21963528],\n",
              "       [-1.80840125,  1.22179204, -1.81438851, ..., -1.74506282,\n",
              "        -0.04813821, -0.75120669]])"
            ]
          },
          "metadata": {},
          "execution_count": 100
        }
      ]
    },
    {
      "cell_type": "markdown",
      "source": [
        "We've scaled our features"
      ],
      "metadata": {
        "id": "h0iku42G4zPT"
      }
    },
    {
      "cell_type": "code",
      "source": [
        "y"
      ],
      "metadata": {
        "colab": {
          "base_uri": "https://localhost:8080/"
        },
        "id": "zn9M9Lp56ppC",
        "outputId": "68a5aabc-fb31-433d-e0d6-4dfc690ceb32"
      },
      "execution_count": 101,
      "outputs": [
        {
          "output_type": "execute_result",
          "data": {
            "text/plain": [
              "array([0, 0, 0, 0, 0, 0, 0, 0, 0, 0, 0, 0, 0, 0, 0, 0, 0, 0, 0, 1, 1, 1,\n",
              "       0, 0, 0, 0, 0, 0, 0, 0, 0, 0, 0, 0, 0, 0, 0, 1, 0, 0, 0, 0, 0, 0,\n",
              "       0, 0, 1, 0, 1, 1, 1, 1, 1, 0, 0, 1, 0, 0, 1, 1, 1, 1, 0, 1, 0, 0,\n",
              "       1, 1, 1, 1, 0, 1, 0, 0, 1, 0, 1, 0, 0, 1, 1, 1, 0, 0, 1, 0, 0, 0,\n",
              "       1, 1, 1, 0, 1, 1, 0, 0, 1, 1, 1, 0, 0, 1, 1, 1, 1, 0, 1, 1, 0, 1,\n",
              "       1, 1, 1, 1, 1, 1, 1, 0, 0, 0, 1, 0, 0, 1, 1, 1, 0, 0, 1, 0, 1, 0,\n",
              "       0, 1, 0, 0, 1, 1, 0, 1, 1, 0, 1, 1, 1, 1, 0, 1, 1, 1, 1, 1, 1, 1,\n",
              "       1, 1, 0, 1, 1, 1, 1, 0, 0, 1, 0, 1, 1, 0, 0, 1, 1, 0, 0, 1, 1, 1,\n",
              "       1, 0, 1, 1, 0, 0, 0, 1, 0, 1, 0, 1, 1, 1, 0, 1, 1, 0, 0, 1, 0, 0,\n",
              "       0, 0, 1, 0, 0, 0, 1, 0, 1, 0, 1, 1, 0, 1, 0, 0, 0, 0, 1, 1, 0, 0,\n",
              "       1, 1, 1, 0, 1, 1, 1, 1, 1, 0, 0, 1, 1, 0, 1, 1, 0, 0, 1, 0, 1, 1,\n",
              "       1, 1, 0, 1, 1, 1, 1, 1, 0, 1, 0, 0, 0, 0, 0, 0, 0, 0, 0, 0, 0, 0,\n",
              "       0, 0, 1, 1, 1, 1, 1, 1, 0, 1, 0, 1, 1, 0, 1, 1, 0, 1, 0, 0, 1, 1,\n",
              "       1, 1, 1, 1, 1, 1, 1, 1, 1, 1, 1, 0, 1, 1, 0, 1, 0, 1, 1, 1, 1, 1,\n",
              "       1, 1, 1, 1, 1, 1, 1, 1, 1, 0, 1, 1, 1, 0, 1, 0, 1, 1, 1, 1, 0, 0,\n",
              "       0, 1, 1, 1, 1, 0, 1, 0, 1, 0, 1, 1, 1, 0, 1, 1, 1, 1, 1, 1, 1, 0,\n",
              "       0, 0, 1, 1, 1, 1, 1, 1, 1, 1, 1, 1, 1, 0, 0, 1, 0, 0, 0, 1, 0, 0,\n",
              "       1, 1, 1, 1, 1, 0, 1, 1, 1, 1, 1, 0, 1, 1, 1, 0, 1, 1, 0, 0, 1, 1,\n",
              "       1, 1, 1, 1, 0, 1, 1, 1, 1, 1, 1, 1, 0, 1, 1, 1, 1, 1, 0, 1, 1, 0,\n",
              "       1, 1, 1, 1, 1, 1, 1, 1, 1, 1, 1, 1, 0, 1, 0, 0, 1, 0, 1, 1, 1, 1,\n",
              "       1, 0, 1, 1, 0, 1, 0, 1, 1, 0, 1, 0, 1, 1, 1, 1, 1, 1, 1, 1, 0, 0,\n",
              "       1, 1, 1, 1, 1, 1, 0, 1, 1, 1, 1, 1, 1, 1, 1, 1, 1, 0, 1, 1, 1, 1,\n",
              "       1, 1, 1, 0, 1, 0, 1, 1, 0, 1, 1, 1, 1, 1, 0, 0, 1, 0, 1, 0, 1, 1,\n",
              "       1, 1, 1, 0, 1, 1, 0, 1, 0, 1, 0, 0, 1, 1, 1, 0, 1, 1, 1, 1, 1, 1,\n",
              "       1, 1, 1, 1, 1, 0, 1, 0, 0, 1, 1, 1, 1, 1, 1, 1, 1, 1, 1, 1, 1, 1,\n",
              "       1, 1, 1, 1, 1, 1, 1, 1, 1, 1, 1, 1, 0, 0, 0, 0, 0, 0, 1])"
            ]
          },
          "metadata": {},
          "execution_count": 101
        }
      ]
    },
    {
      "cell_type": "markdown",
      "source": [
        "## Classification Model"
      ],
      "metadata": {
        "id": "Qp7mJ_lp69EC"
      }
    },
    {
      "cell_type": "markdown",
      "source": [
        "Here are our classes. The only difference from regression is that in classification we have differenct input and output values. Model itself can look exactly the same."
      ],
      "metadata": {
        "id": "M4SWKkpl6sd1"
      }
    },
    {
      "cell_type": "markdown",
      "source": [
        "### Forward Pass"
      ],
      "metadata": {
        "id": "8jKgB0JSOu6B"
      }
    },
    {
      "cell_type": "code",
      "source": [
        "class Classifier(nn.Module):\n",
        "  def __init__(self):\n",
        "    super().__init__()\n",
        "    self.layer_1 = nn.Linear(30, 40)\n",
        "    self.layer_2 = nn.Linear(40, 10)\n",
        "    self.layer_3 = nn.Linear(10, 1) # here is the difference\n",
        "\n",
        "    self.relu = nn.ReLU()\n",
        "    self.sigmoid = nn.Sigmoid() # we need sigmoid activation due to classification issue and expected binary output\n",
        "\n",
        "  def forward(self, X):\n",
        "    x = self.layer_1(X)\n",
        "    x = self.relu(x)\n",
        "    x = self.layer_2(x)\n",
        "    x = self.relu(x)\n",
        "    x = self.layer_3(x)\n",
        "    x = self.sigmoid(x)\n",
        "    return x"
      ],
      "metadata": {
        "id": "mr-A9l2m6-S6"
      },
      "execution_count": 102,
      "outputs": []
    },
    {
      "cell_type": "code",
      "source": [
        "# instantiate it\n",
        "model = Classifier()"
      ],
      "metadata": {
        "id": "nxv5tfxzN1BU"
      },
      "execution_count": 103,
      "outputs": []
    },
    {
      "cell_type": "code",
      "source": [
        "# make tensors\n",
        "X = torch.from_numpy(X).float()\n",
        "y = torch.from_numpy(y.reshape(-1,1)).float()"
      ],
      "metadata": {
        "id": "RetpQMA9N66I"
      },
      "execution_count": 104,
      "outputs": []
    },
    {
      "cell_type": "markdown",
      "source": [
        "### Loss"
      ],
      "metadata": {
        "id": "dsFOopx5Xrnh"
      }
    },
    {
      "cell_type": "code",
      "source": [
        "loss_fn = nn.BCELoss()"
      ],
      "metadata": {
        "id": "0VhKM0Byno4D"
      },
      "execution_count": 105,
      "outputs": []
    },
    {
      "cell_type": "markdown",
      "source": [
        "### Optimizer"
      ],
      "metadata": {
        "id": "Sag2hljTUb1Z"
      }
    },
    {
      "cell_type": "code",
      "source": [
        "optimizer = optim.SGD(model.parameters(), lr = 0.01)"
      ],
      "metadata": {
        "id": "rxLpAmKxngGp"
      },
      "execution_count": 106,
      "outputs": []
    },
    {
      "cell_type": "markdown",
      "source": [
        "### Training Loop"
      ],
      "metadata": {
        "id": "M4kEaXu8OzFR"
      }
    },
    {
      "cell_type": "code",
      "source": [
        "# function for training\n",
        "losses = []\n",
        "\n",
        "def train_loop(n_epochs, optimizer, model, loss_function, x_train, y_train):\n",
        "  for epoch in range(1, n_epochs + 1):\n",
        "    yhat = model(x_train)\n",
        "    loss = loss_function(yhat, y_train)\n",
        "    losses.append(loss)\n",
        "    if epoch % 100 == 0:\n",
        "      print(f'Epoch {epoch}, Loss {loss}')\n",
        "    optimizer.zero_grad()\n",
        "    loss.backward()\n",
        "    optimizer.step()"
      ],
      "metadata": {
        "id": "rHEXoY_WOmba"
      },
      "execution_count": 107,
      "outputs": []
    },
    {
      "cell_type": "code",
      "source": [
        "# call the training function\n",
        "train_loop(5000, optimizer, model, loss_fn, X, y)"
      ],
      "metadata": {
        "colab": {
          "base_uri": "https://localhost:8080/"
        },
        "id": "tPeeEJ_6qHA_",
        "outputId": "e786a19e-1a9c-4da8-da93-5f5d2b85682c"
      },
      "execution_count": 108,
      "outputs": [
        {
          "output_type": "stream",
          "name": "stdout",
          "text": [
            "Epoch 100, Loss 0.6183024644851685\n",
            "Epoch 200, Loss 0.515556275844574\n",
            "Epoch 300, Loss 0.37075963616371155\n",
            "Epoch 400, Loss 0.2462184727191925\n",
            "Epoch 500, Loss 0.1765415072441101\n",
            "Epoch 600, Loss 0.13856768608093262\n",
            "Epoch 700, Loss 0.11598832905292511\n",
            "Epoch 800, Loss 0.10124501585960388\n",
            "Epoch 900, Loss 0.09095477312803268\n",
            "Epoch 1000, Loss 0.08346101641654968\n",
            "Epoch 1100, Loss 0.07776065170764923\n",
            "Epoch 1200, Loss 0.07328902930021286\n",
            "Epoch 1300, Loss 0.06967529654502869\n",
            "Epoch 1400, Loss 0.06671138852834702\n",
            "Epoch 1500, Loss 0.06423056870698929\n",
            "Epoch 1600, Loss 0.0620884969830513\n",
            "Epoch 1700, Loss 0.060190599411726\n",
            "Epoch 1800, Loss 0.05846528336405754\n",
            "Epoch 1900, Loss 0.05691014230251312\n",
            "Epoch 2000, Loss 0.05549928918480873\n",
            "Epoch 2100, Loss 0.05421019718050957\n",
            "Epoch 2200, Loss 0.053023211658000946\n",
            "Epoch 2300, Loss 0.0519157238304615\n",
            "Epoch 2400, Loss 0.0509028322994709\n",
            "Epoch 2500, Loss 0.04997465759515762\n",
            "Epoch 2600, Loss 0.04911099746823311\n",
            "Epoch 2700, Loss 0.048293136060237885\n",
            "Epoch 2800, Loss 0.04752175882458687\n",
            "Epoch 2900, Loss 0.04680010303854942\n",
            "Epoch 3000, Loss 0.046113114804029465\n",
            "Epoch 3100, Loss 0.04545700550079346\n",
            "Epoch 3200, Loss 0.044822532683610916\n",
            "Epoch 3300, Loss 0.044208575040102005\n",
            "Epoch 3400, Loss 0.04362013190984726\n",
            "Epoch 3500, Loss 0.043053459376096725\n",
            "Epoch 3600, Loss 0.04250273108482361\n",
            "Epoch 3700, Loss 0.04196902737021446\n",
            "Epoch 3800, Loss 0.04145590960979462\n",
            "Epoch 3900, Loss 0.040957074612379074\n",
            "Epoch 4000, Loss 0.040472064167261124\n",
            "Epoch 4100, Loss 0.04000279679894447\n",
            "Epoch 4200, Loss 0.03954527527093887\n",
            "Epoch 4300, Loss 0.03910306841135025\n",
            "Epoch 4400, Loss 0.038674499839544296\n",
            "Epoch 4500, Loss 0.03825565427541733\n",
            "Epoch 4600, Loss 0.0378430038690567\n",
            "Epoch 4700, Loss 0.03743739426136017\n",
            "Epoch 4800, Loss 0.03703754395246506\n",
            "Epoch 4900, Loss 0.03664259612560272\n",
            "Epoch 5000, Loss 0.03625227510929108\n"
          ]
        }
      ]
    },
    {
      "cell_type": "markdown",
      "source": [
        "### Predictions"
      ],
      "metadata": {
        "id": "8J1u1sPMr6So"
      }
    },
    {
      "cell_type": "code",
      "source": [
        "preds = np.where(model(X) > 0.5, 1, 0)\n",
        "preds[:20]"
      ],
      "metadata": {
        "colab": {
          "base_uri": "https://localhost:8080/"
        },
        "id": "IQ2Eq19Br8FS",
        "outputId": "895c23a0-9301-4810-b2e3-aa3e923b7586"
      },
      "execution_count": 112,
      "outputs": [
        {
          "output_type": "execute_result",
          "data": {
            "text/plain": [
              "array([[0],\n",
              "       [0],\n",
              "       [0],\n",
              "       [0],\n",
              "       [0],\n",
              "       [0],\n",
              "       [0],\n",
              "       [0],\n",
              "       [0],\n",
              "       [0],\n",
              "       [0],\n",
              "       [0],\n",
              "       [0],\n",
              "       [0],\n",
              "       [0],\n",
              "       [0],\n",
              "       [0],\n",
              "       [0],\n",
              "       [0],\n",
              "       [1]])"
            ]
          },
          "metadata": {},
          "execution_count": 112
        }
      ]
    },
    {
      "cell_type": "code",
      "source": [
        "from sklearn.metrics import confusion_matrix as cm, accuracy_score as acc\n",
        "\n",
        "cm(preds, y)"
      ],
      "metadata": {
        "colab": {
          "base_uri": "https://localhost:8080/"
        },
        "id": "10OJWwZlsOxQ",
        "outputId": "80e6d862-32b6-4265-8006-892a5e2c31ac"
      },
      "execution_count": 114,
      "outputs": [
        {
          "output_type": "execute_result",
          "data": {
            "text/plain": [
              "array([[208,   1],\n",
              "       [  4, 356]])"
            ]
          },
          "metadata": {},
          "execution_count": 114
        }
      ]
    },
    {
      "cell_type": "code",
      "source": [
        "print(f'Accuracy score: {round(acc(y, preds),4)*100}%')"
      ],
      "metadata": {
        "colab": {
          "base_uri": "https://localhost:8080/"
        },
        "id": "Fx2PSlR5sjKO",
        "outputId": "9fdefa32-7471-44b1-da4b-b546045e5536"
      },
      "execution_count": 121,
      "outputs": [
        {
          "output_type": "stream",
          "name": "stdout",
          "text": [
            "Accuracy score: 99.11999999999999%\n"
          ]
        }
      ]
    },
    {
      "cell_type": "markdown",
      "source": [
        "# Using sklearn dataset"
      ],
      "metadata": {
        "id": "u7FL5NOynqJV"
      }
    },
    {
      "cell_type": "code",
      "source": [
        "class MyData(Dataset):\n",
        "  # loads data into class\n",
        "  def __init__(self, X, Y):\n",
        "    self.X = X\n",
        "    self.Y = Y\n",
        "\n",
        "  # determines how many data samples exist\n",
        "  def __len__(self):\n",
        "    return len(self.Y)\n",
        "\n",
        "  # returns the sample based on index\n",
        "  def __getitem__(self, index):\n",
        "    X = self.X[index].float().reshape(-1)\n",
        "    Y = self.Y[index].long()\n",
        "    return X, Y"
      ],
      "metadata": {
        "id": "VeHhLApguSvb"
      },
      "execution_count": 123,
      "outputs": []
    },
    {
      "cell_type": "code",
      "source": [
        "from sklearn.datasets import make_classification\n",
        "\n",
        "X, y = make_classification()"
      ],
      "metadata": {
        "id": "EJgPcaxKvxMO"
      },
      "execution_count": 125,
      "outputs": []
    },
    {
      "cell_type": "code",
      "source": [
        "X"
      ],
      "metadata": {
        "colab": {
          "base_uri": "https://localhost:8080/"
        },
        "id": "mN6SrJYbv7al",
        "outputId": "829b3ccb-ec44-4ba4-dac4-346929fe9972"
      },
      "execution_count": 126,
      "outputs": [
        {
          "output_type": "execute_result",
          "data": {
            "text/plain": [
              "array([[-1.14109837,  2.8814134 , -1.74176903, ..., -0.51651893,\n",
              "         1.91858981, -2.20623771],\n",
              "       [-0.84066034, -1.30714496, -0.83858877, ...,  1.73561806,\n",
              "        -0.44730088,  0.13792929],\n",
              "       [-1.42815   ,  0.85634409,  0.90629438, ..., -1.42094087,\n",
              "        -1.46348238, -2.20388598],\n",
              "       ...,\n",
              "       [-1.03990184, -0.91113504, -1.15804975, ...,  0.51220004,\n",
              "        -0.58583057, -1.05743326],\n",
              "       [-0.86810602, -0.7595491 , -1.35921384, ...,  0.5085132 ,\n",
              "         0.49971187, -1.3437611 ],\n",
              "       [-0.21488718,  0.40009217, -1.79670098, ...,  0.50267122,\n",
              "         1.67158409, -0.01875377]])"
            ]
          },
          "metadata": {},
          "execution_count": 126
        }
      ]
    },
    {
      "cell_type": "code",
      "source": [
        "y"
      ],
      "metadata": {
        "colab": {
          "base_uri": "https://localhost:8080/"
        },
        "id": "1LsHXRuSv83L",
        "outputId": "3a6f215a-96e5-4baa-ec81-eb14f7ddcf5f"
      },
      "execution_count": 127,
      "outputs": [
        {
          "output_type": "execute_result",
          "data": {
            "text/plain": [
              "array([0, 1, 0, 0, 1, 0, 1, 0, 0, 1, 1, 1, 1, 1, 1, 1, 0, 0, 1, 0, 0, 1,\n",
              "       1, 0, 1, 0, 0, 0, 0, 0, 0, 1, 0, 1, 0, 1, 1, 0, 1, 0, 1, 1, 1, 1,\n",
              "       1, 1, 0, 0, 1, 0, 1, 1, 0, 0, 1, 0, 0, 0, 1, 1, 1, 1, 1, 0, 0, 1,\n",
              "       1, 1, 1, 0, 0, 0, 1, 0, 1, 0, 0, 0, 1, 1, 1, 0, 1, 0, 0, 1, 0, 0,\n",
              "       1, 0, 0, 1, 0, 0, 0, 1, 0, 0, 1, 1])"
            ]
          },
          "metadata": {},
          "execution_count": 127
        }
      ]
    },
    {
      "cell_type": "code",
      "source": [
        "X = torch.tensor(X)\n",
        "y = torch.tensor(y)"
      ],
      "metadata": {
        "id": "LuIRflkhv99a"
      },
      "execution_count": 128,
      "outputs": []
    },
    {
      "cell_type": "code",
      "source": [
        "from sklearn.model_selection import train_test_split\n",
        "\n",
        "X_train, X_test, y_train, y_test = train_test_split(X, y)\n",
        "X_train.shape, X_test.shape, y_train.shape, y_test.shape"
      ],
      "metadata": {
        "colab": {
          "base_uri": "https://localhost:8080/"
        },
        "id": "8HtJRr9cwCvY",
        "outputId": "5fafedad-006f-419d-f057-40d187ec2807"
      },
      "execution_count": 133,
      "outputs": [
        {
          "output_type": "execute_result",
          "data": {
            "text/plain": [
              "(torch.Size([75, 20]),\n",
              " torch.Size([25, 20]),\n",
              " torch.Size([75]),\n",
              " torch.Size([25]))"
            ]
          },
          "metadata": {},
          "execution_count": 133
        }
      ]
    },
    {
      "cell_type": "code",
      "source": [
        "train_data = MyData(X_train, y_train)"
      ],
      "metadata": {
        "colab": {
          "base_uri": "https://localhost:8080/"
        },
        "id": "ncnJh-8Fwy0T",
        "outputId": "72c3720a-5d20-41e4-9158-dc8f4f305947"
      },
      "execution_count": 134,
      "outputs": [
        {
          "output_type": "execute_result",
          "data": {
            "text/plain": [
              "<__main__.MyData at 0x79057bcaebf0>"
            ]
          },
          "metadata": {},
          "execution_count": 134
        }
      ]
    },
    {
      "cell_type": "code",
      "source": [
        "train_loader = DataLoader(train_data,\n",
        "                          32)"
      ],
      "metadata": {
        "colab": {
          "base_uri": "https://localhost:8080/"
        },
        "id": "u9Id1X1txCH-",
        "outputId": "08625a1a-668e-480a-caf9-824ed3cdf465"
      },
      "execution_count": 135,
      "outputs": [
        {
          "output_type": "execute_result",
          "data": {
            "text/plain": [
              "<torch.utils.data.dataloader.DataLoader at 0x79057bcf3fa0>"
            ]
          },
          "metadata": {},
          "execution_count": 135
        }
      ]
    },
    {
      "cell_type": "code",
      "source": [
        "# examine first observation\n",
        "train_data.__getitem__(0)"
      ],
      "metadata": {
        "colab": {
          "base_uri": "https://localhost:8080/"
        },
        "id": "jQcFVthhxN-v",
        "outputId": "874f4bf5-283e-4fcc-9a4a-fffb4428f926"
      },
      "execution_count": 138,
      "outputs": [
        {
          "output_type": "execute_result",
          "data": {
            "text/plain": [
              "(tensor([-3.0419,  0.3585, -0.6351,  0.3717, -1.8400, -0.3826, -0.6778, -1.3416,\n",
              "         -0.6221, -0.7658, -0.0613, -1.7476, -1.8399,  0.5722, -0.0826,  1.1027,\n",
              "          1.5176,  0.2119, -0.4117,  0.3135]),\n",
              " tensor(1))"
            ]
          },
          "metadata": {},
          "execution_count": 138
        }
      ]
    },
    {
      "cell_type": "markdown",
      "source": [
        "# Using torchvision dataset"
      ],
      "metadata": {
        "id": "2Cz3HMybxnSX"
      }
    },
    {
      "cell_type": "code",
      "source": [
        "from torchvision import datasets\n",
        "from torchvision.transforms import ToTensor\n",
        "import matplotlib.pyplot as plt"
      ],
      "metadata": {
        "id": "W15R2jXqyMc4"
      },
      "execution_count": 148,
      "outputs": []
    },
    {
      "cell_type": "code",
      "source": [
        "train_data = datasets.FashionMNIST(root = 'data', download = True, transform = ToTensor())"
      ],
      "metadata": {
        "id": "gV4G37CSyVr7"
      },
      "execution_count": 145,
      "outputs": []
    },
    {
      "cell_type": "code",
      "source": [
        "test_data = datasets.FashionMNIST(root = 'data', train = False, download = True, transform = ToTensor())"
      ],
      "metadata": {
        "id": "Pg2s4LzzyndJ"
      },
      "execution_count": 146,
      "outputs": []
    },
    {
      "cell_type": "code",
      "source": [
        "img, label = train_data[0]\n",
        "\n",
        "plt.imshow(img[0].squeeze(), cmap = 'gray')\n",
        "plt.title(label)\n",
        "plt.axis(False)\n",
        "plt.show()"
      ],
      "metadata": {
        "colab": {
          "base_uri": "https://localhost:8080/",
          "height": 428
        },
        "id": "hDbgtp7bywPm",
        "outputId": "8332b989-7a37-489c-af28-603ffccc967c"
      },
      "execution_count": 153,
      "outputs": [
        {
          "output_type": "display_data",
          "data": {
            "text/plain": [
              "<Figure size 640x480 with 1 Axes>"
            ],
            "image/png": "[encoded data removed]"
          },
          "metadata": {}
        }
      ]
    },
    {
      "cell_type": "code",
      "source": [
        "train_dataloader = DataLoader(train_data, batch_size = 20, shuffle = True)\n",
        "test_dataloader = DataLoader(test_data, batch_size = 20, shuffle = False)"
      ],
      "metadata": {
        "id": "c6b4j-M5zbPh"
      },
      "execution_count": 154,
      "outputs": []
    },
    {
      "cell_type": "code",
      "source": [
        "train_ims, train_labels = next(iter(train_dataloader))"
      ],
      "metadata": {
        "id": "FYXQ5XYX0HyF"
      },
      "execution_count": 155,
      "outputs": []
    },
    {
      "cell_type": "code",
      "source": [
        "plt.imshow(train_ims[0].squeeze(), cmap = 'gray')"
      ],
      "metadata": {
        "colab": {
          "base_uri": "https://localhost:8080/",
          "height": 447
        },
        "id": "fE22XN9u0N_-",
        "outputId": "2dc47f5e-48d7-421d-e9e1-8129c62d0459"
      },
      "execution_count": 157,
      "outputs": [
        {
          "output_type": "execute_result",
          "data": {
            "text/plain": [
              "<matplotlib.image.AxesImage at 0x79056b40e7a0>"
            ]
          },
          "metadata": {},
          "execution_count": 157
        },
        {
          "output_type": "display_data",
          "data": {
            "text/plain": [
              "<Figure size 640x480 with 1 Axes>"
            ],
            "image/png": "[encoded data removed]"
          },
          "metadata": {}
        }
      ]
    },
    {
      "cell_type": "code",
      "source": [
        "len(train_ims)"
      ],
      "metadata": {
        "colab": {
          "base_uri": "https://localhost:8080/"
        },
        "id": "AX9NeV730dCJ",
        "outputId": "fd584f17-4a98-4c1d-93ed-0fb19262bbc6"
      },
      "execution_count": 158,
      "outputs": [
        {
          "output_type": "execute_result",
          "data": {
            "text/plain": [
              "20"
            ]
          },
          "metadata": {},
          "execution_count": 158
        }
      ]
    },
    {
      "cell_type": "markdown",
      "source": [
        "#"
      ],
      "metadata": {
        "id": "MJQir4dZex-W"
      }
    }
  ]
}